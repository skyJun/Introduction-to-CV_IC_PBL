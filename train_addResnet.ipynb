{
  "nbformat": 4,
  "nbformat_minor": 0,
  "metadata": {
    "colab": {
      "provenance": [],
      "gpuType": "T4"
    },
    "kernelspec": {
      "name": "python3",
      "display_name": "Python 3"
    },
    "language_info": {
      "name": "python"
    },
    "accelerator": "GPU"
  },
  "cells": [
    {
      "cell_type": "code",
      "execution_count": 1,
      "metadata": {
        "colab": {
          "base_uri": "https://localhost:8080/"
        },
        "id": "4KvGRPPDOWDn",
        "outputId": "67a90c18-6a3a-491d-ba80-8fde24b8319e"
      },
      "outputs": [
        {
          "output_type": "stream",
          "name": "stdout",
          "text": [
            "Mounted at /content/drive\n"
          ]
        }
      ],
      "source": [
        "# connect google drive\n",
        "from google.colab import drive\n",
        "drive.mount('/content/drive')"
      ]
    },
    {
      "cell_type": "code",
      "source": [
        "import cv2\n",
        "import numpy as np\n",
        "import matplotlib.pyplot as plt\n",
        "import os\n",
        "from tqdm import tqdm\n",
        "\n",
        "def getOpticalFlow(video):\n",
        "    \"\"\"Calculate dense optical flow of input video\n",
        "    Args:\n",
        "        video: the input video with shape of [frames,height,width,channel]. dtype=np.array\n",
        "    Returns:\n",
        "        flows_x: the optical flow at x-axis, with the shape of [frames,height,width,channel]\n",
        "        flows_y: the optical flow at y-axis, with the shape of [frames,height,width,channel]\n",
        "    \"\"\"\n",
        "    # initialize the list of optical flows\n",
        "    gray_video = []\n",
        "    for i in range(len(video)):\n",
        "        img = cv2.cvtColor(video[i], cv2.COLOR_RGB2GRAY)\n",
        "        gray_video.append(np.reshape(img, (224, 224, 1)))\n",
        "\n",
        "    flows = []\n",
        "    for i in range(0, len(video) - 1):\n",
        "        # calculate optical flow between each pair of frames\n",
        "        flow = cv2.calcOpticalFlowFarneback(gray_video[i], gray_video[i + 1], None, 0.5, 3, 15, 3, 5, 1.2,\n",
        "                                            cv2.OPTFLOW_FARNEBACK_GAUSSIAN)\n",
        "        # subtract the mean in order to eliminate the movement of camera\n",
        "        flow[..., 0] -= np.mean(flow[..., 0])\n",
        "        flow[..., 1] -= np.mean(flow[..., 1])\n",
        "        # normalize each component in optical flow\n",
        "        flow[..., 0] = cv2.normalize(flow[..., 0], None, 0, 255, cv2.NORM_MINMAX)\n",
        "        flow[..., 1] = cv2.normalize(flow[..., 1], None, 0, 255, cv2.NORM_MINMAX)\n",
        "        # Add into list\n",
        "        flows.append(flow)\n",
        "\n",
        "    # Padding the last frame as empty array\n",
        "    flows.append(np.zeros((224, 224, 2)))\n",
        "\n",
        "    return np.array(flows, dtype=np.float32)\n",
        "\n",
        "\n",
        "def Video2Npy(file_path, resize=(224,224)):\n",
        "    \"\"\"Load video and tansfer it into .npy format\n",
        "    Args:\n",
        "        file_path: the path of video file\n",
        "        resize: the target resolution of output video\n",
        "    Returns:\n",
        "        frames: gray-scale video\n",
        "        flows: magnitude video of optical flows\n",
        "    \"\"\"\n",
        "    # Load video\n",
        "    cap = cv2.VideoCapture(file_path)\n",
        "    # Get number of frames\n",
        "    len_frames = int(cap.get(7))\n",
        "    # Extract frames from video\n",
        "    try:\n",
        "        frames = []\n",
        "        for i in range(len_frames-1):\n",
        "            _, frame = cap.read()\n",
        "            frame = cv2.resize(frame,resize, interpolation=cv2.INTER_AREA)\n",
        "            frame = cv2.cvtColor(frame, cv2.COLOR_BGR2RGB)\n",
        "            frame = np.reshape(frame, (224,224,3))\n",
        "            frames.append(frame)\n",
        "    except:\n",
        "        print(\"Error: \", file_path, len_frames,i)\n",
        "    finally:\n",
        "        frames = np.array(frames)\n",
        "        cap.release()\n",
        "\n",
        "    # Get the optical flow of video\n",
        "    flows = getOpticalFlow(frames)\n",
        "\n",
        "    # Visualize optical flow map\n",
        "    optical_flow_map = farneback_visual(flows)\n",
        "\n",
        "    result = np.zeros((len(flows),224,224,5))\n",
        "    result[...,:3] = frames\n",
        "    result[...,3:] = flows\n",
        "\n",
        "    return result\n",
        "\n",
        "def farneback_visual(flows):\n",
        "    # visualization farneback optical flow map\n",
        "    # save the map as 'farneback_optical_flow.mp4'\n",
        "    #인지\n",
        "    pass\n",
        "\n",
        "\n",
        "def Save2Npy(file_dir, save_dir):   # modify this code to save the npy files for your directory or path\n",
        "    \"\"\"Transfer all the videos and save them into specified directory\n",
        "    Args:\n",
        "        file_dir: source folder of target videos\n",
        "        save_dir: destination folder of output .npy files\n",
        "    \"\"\"\n",
        "    if not os.path.exists(save_dir):\n",
        "        os.makedirs(save_dir)\n",
        "    # List the files\n",
        "    videos = os.listdir(file_dir)\n",
        "    for v in tqdm(videos):\n",
        "        # Split video name\n",
        "        video_name = v.split('.')[0]\n",
        "        # Get src\n",
        "        video_path = os.path.join(file_dir, v)\n",
        "        # Get dest\n",
        "        save_path = os.path.join(save_dir, video_name+'.npy')\n",
        "        # Load and preprocess video\n",
        "        data = Video2Npy(file_path=video_path, resize=(224,224))\n",
        "        data = np.uint8(data)\n",
        "        # Save as .npy file\n",
        "        np.save(save_path, data)\n",
        "\n",
        "    return None"
      ],
      "metadata": {
        "id": "Xp1vRjWnShOG"
      },
      "execution_count": 4,
      "outputs": []
    },
    {
      "cell_type": "code",
      "source": [
        "source_path = '/content/drive/MyDrive/Colab Notebooks/IC_PBL/dataset/raw_video.zip (Unzipped Files)'\n",
        "target_path = '/content/drive/MyDrive/Colab Notebooks/IC_PBL/dataset/npy_dataset'\n",
        "\n",
        "for f1 in ['train', 'val', 'test']:\n",
        "    for f2 in ['Fight', 'NonFight']:\n",
        "        path1 = os.path.join(source_path, f1, f2)\n",
        "        path2 = os.path.join(target_path, f1, f2)\n",
        "        Save2Npy(file_dir=path1, save_dir=path2)"
      ],
      "metadata": {
        "colab": {
          "base_uri": "https://localhost:8080/"
        },
        "id": "5ohiBjdl7JnK",
        "outputId": "6d13e43a-ac77-4e6b-b04f-def6738a9064"
      },
      "execution_count": 5,
      "outputs": [
        {
          "output_type": "stream",
          "name": "stderr",
          "text": [
            "100%|██████████| 80/80 [08:34<00:00,  6.44s/it]\n",
            "100%|██████████| 80/80 [08:05<00:00,  6.07s/it]\n",
            "100%|██████████| 20/20 [02:17<00:00,  6.85s/it]\n",
            "100%|██████████| 20/20 [02:03<00:00,  6.19s/it]\n",
            "100%|██████████| 10/10 [00:54<00:00,  5.48s/it]\n",
            "100%|██████████| 10/10 [00:50<00:00,  5.07s/it]\n"
          ]
        }
      ]
    },
    {
      "cell_type": "code",
      "source": [
        "from multiprocessing import allow_connection_pickling\n",
        "import torch\n",
        "import torch.utils.data as data\n",
        "from torch.utils.data import DataLoader, Dataset\n",
        "import numpy as np\n",
        "import os\n",
        "import cv2\n",
        "\n",
        "class DataGenerator(Dataset):\n",
        "\n",
        "    ### basic function templates for Dataset class in Pytorch : __init__, __len__, __getitem__###\n",
        "    def __init__(self, directory, data_augmentation=True, phase='train'):\n",
        "        self.phase=phase\n",
        "        self.directory = directory\n",
        "        self.data_aug = data_augmentation\n",
        "        self.X_path, self.Y_dict = self.search_data()\n",
        "        self.print_stats()\n",
        "\n",
        "    def __len__(self):\n",
        "        steps_per_epoch = int(len(self.X_path))\n",
        "        return steps_per_epoch\n",
        "\n",
        "    # get data and label corresponding to index using 'data_generation function'\n",
        "    def __getitem__(self, index):\n",
        "        data, label = self.data_generation(self.X_path[index])\n",
        "        return data.float(), label\n",
        "\n",
        "    #############################################################\n",
        "    # -----------------codes down from this line are provided.------------------- #\n",
        "    # call raw data using data path, and data processing including 'uniform sampling', 'color jittering', 'random flip', and 'normalize'\n",
        "    #############################################################\n",
        "\n",
        "    def load_data(self, path):\n",
        "        data = np.load(path, mmap_mode='r') # Read the raw data from path\n",
        "        data = self.uniform_sampling(data, target_frames=64) # Randomly sample number of target frames\n",
        "        if self.data_aug: # If data is augmented...\n",
        "            data[..., :3] = self.color_jitter(data[..., :3])\n",
        "            data = self.random_flip(data, prob=0.5) # Random flip image into random direction\n",
        "        data[..., :3] = self.normalize(data[..., :3]) # Normalize RGB\n",
        "        data[..., 3:] = self.normalize(data[..., 3:]) # Normalize optical flows\n",
        "        return data\n",
        "\n",
        "    # shuffle data\n",
        "    def on_epoch_end(self):\n",
        "        if self.shuffle:\n",
        "            np.random.shuffle(self.indexes)\n",
        "\n",
        "    # Normalize data\n",
        "    def normalize(self, data):\n",
        "        mean = data.mean()\n",
        "        std = data.std()\n",
        "        return (data - mean) / std\n",
        "\n",
        "    def random_flip(self, video, prob):\n",
        "        s = np.random.rand()\n",
        "        if s < prob:\n",
        "            video = np.flip(video, (2,)) # Flip in width direction\n",
        "        return video\n",
        "\n",
        "    def uniform_sampling(self, video, target_frames=64):\n",
        "        # get total frames of input video and calculate sampling interval\n",
        "        len_frames = int(len(video))\n",
        "        interval = int(np.ceil(len_frames/target_frames))\n",
        "        # init empty list for sampled video and\n",
        "        sampled_video = []\n",
        "        for i in range(0,len_frames,interval):\n",
        "            sampled_video.append(video[i])\n",
        "        # calculate numer of padded frames and fix it\n",
        "        num_pad = target_frames - len(sampled_video) # num pad = # target frame - # current frame\n",
        "        padding = []\n",
        "        if num_pad>0:\n",
        "            for i in range(-num_pad,0):\n",
        "                try:\n",
        "                    padding.append(video[i]) # Fill with the last video frame\n",
        "                except:\n",
        "                    padding.append(video[0])\n",
        "            sampled_video += padding # Add padding results\n",
        "        # get sampled video\n",
        "        return np.array(sampled_video, dtype=np.float32)\n",
        "\n",
        "    # Jitter = spread values\n",
        "    def color_jitter(self, video):\n",
        "        s_jitter = np.random.uniform(-0.2, 0.2)\n",
        "        v_jitter = np.random.uniform(-30, 30)\n",
        "        for i in range(len(video)):\n",
        "            hsv = cv2.cvtColor(np.array(video[i]), cv2.COLOR_RGB2HSV) # Convert RGB -> HSV\n",
        "            s = hsv[..., 1] + s_jitter # saturation jitter\n",
        "            v = hsv[..., 2] + v_jitter # Value jitter\n",
        "            # Flip\n",
        "            s[s < 0] = 0\n",
        "            s[s > 1] = 1\n",
        "            v[v < 0] = 0\n",
        "            v[v > 255] = 255\n",
        "            hsv[..., 1] = s # set jittered saturation\n",
        "            hsv[..., 2] = v # Set jittered value\n",
        "            video[i] = torch.Tensor(cv2.cvtColor(hsv, cv2.COLOR_HSV2RGB)) # Convert HSV -> RGB again\n",
        "        return video\n",
        "\n",
        "    # print current state sof the Dataset class\n",
        "    def print_stats(self):\n",
        "            self.n_files = len(self.X_path)\n",
        "            self.n_classes = len(self.dirs)\n",
        "            self.indexes = np.arange(len(self.X_path))\n",
        "            np.random.shuffle(self.indexes)\n",
        "            print(\"Found {} files belonging to {} classes.\".format(self.n_files, self.n_classes))\n",
        "            for i, label in enumerate(self.dirs):\n",
        "                print('{:10s} : {}'.format(label, i))\n",
        "\n",
        "    #############################################################\n",
        "    # Fill the missing part of the code with functions given above\n",
        "    #############################################################\n",
        "\n",
        "    # get data and label(one-hot encoded) from path list/dictionary\n",
        "    def search_data(self):\n",
        "        X_path = []\n",
        "        Y_dict = {}\n",
        "        self.dirs = sorted(os.listdir(self.directory)) # Get sorted file directories\n",
        "        one_hots = np.eye(len(self.dirs))  # One-hot encoded vector\n",
        "        for i, folder in enumerate(self.dirs):\n",
        "            folder_path = os.path.join(self.directory, folder)  # folder_path = ...train/Fight or ...train/NonFight\n",
        "            for file in os.listdir(folder_path):\n",
        "                # Add file path into X_path\n",
        "                # Assign one hot encoded vector into Y_dict\n",
        "                file_path = os.path.join(folder_path, file)\n",
        "                X_path.append(file_path)\n",
        "                #레이블 할당\n",
        "                Y_dict[file_path] = one_hots[i]\n",
        "\n",
        "        return X_path, Y_dict\n",
        "\n",
        "    # define batch x using 'load_data' function and batch_y from self.Y_dict.\n",
        "    def data_generation(self, batch_path):\n",
        "        batch_x = np.array(self.load_data(batch_path))\n",
        "        batch_y = np.array(self.Y_dict[batch_path])\n",
        "\n",
        "        # Transfer numpy array to tensor\n",
        "        batch_x = torch.from_numpy(batch_x)\n",
        "        batch_y = torch.from_numpy(batch_y).float()\n",
        "\n",
        "        return batch_x, batch_y"
      ],
      "metadata": {
        "id": "fsbSfOXxSjuJ"
      },
      "execution_count": 6,
      "outputs": []
    },
    {
      "cell_type": "code",
      "source": [
        "import torch\n",
        "import torch.nn as nn\n",
        "import torch.nn.functional as F\n",
        "\n",
        "class FusionModel(nn.Module):\n",
        "    def __init__(self):\n",
        "        super(FusionModel, self).__init__()\n",
        "        self.relu=nn.ReLU(inplace=True)\n",
        "\n",
        "        # RGB layers\n",
        "        self.rgb_conv1a = nn.Conv3d(3, 16, kernel_size=(1, 3, 3), stride=1, padding=(0, 1, 1))\n",
        "        self.rgb_conv1b = nn.Conv3d(16, 16, kernel_size=(3, 1, 1), stride=1, padding=(1, 0, 0))\n",
        "        self.rgb_pool1a = nn.MaxPool3d(kernel_size=(1, 2, 2), stride=(1, 2, 2))\n",
        "\n",
        "        self.rgb_conv1c = nn.Conv3d(16, 16, kernel_size=(1, 3, 3), stride=1, padding=(0, 1, 1))\n",
        "        self.rgb_conv1d = nn.Conv3d(16, 16, kernel_size=(3, 1, 1), stride=1, padding=(1, 0, 0))\n",
        "        self.rgb_pool1b = nn.MaxPool3d(kernel_size=(1, 2, 2), stride=(1, 2, 2))\n",
        "\n",
        "        self.rgb_conv2a = nn.Conv3d(16, 32, kernel_size=(1, 3, 3), stride=1, padding=(0, 1, 1))\n",
        "        self.rgb_conv2b = nn.Conv3d(32, 32, kernel_size=(3, 1, 1), stride=1, padding=(1, 0, 0))\n",
        "        self.rgb_pool2a = nn.MaxPool3d(kernel_size=(1, 2, 2), stride=(1, 2, 2))\n",
        "\n",
        "        self.rgb_conv2c = nn.Conv3d(32, 32, kernel_size=(1, 3, 3), stride=1, padding=(0, 1, 1))\n",
        "        self.rgb_conv2d = nn.Conv3d(32, 32, kernel_size=(3, 1, 1), stride=1, padding=(1, 0, 0))\n",
        "        self.rgb_pool2b = nn.MaxPool3d(kernel_size=(1, 2, 2), stride=(1, 2, 2))\n",
        "\n",
        "        # Optical flow layers\n",
        "        self.opt_conv1a = nn.Conv3d(2, 16, kernel_size=(1, 3, 3), stride=1, padding=(0, 1, 1))\n",
        "        self.opt_conv1b = nn.Conv3d(16, 16, kernel_size=(3, 1, 1), stride=1, padding=(1, 0, 0))\n",
        "        self.opt_pool1a = nn.MaxPool3d(kernel_size=(1, 2, 2), stride=(1, 2, 2))\n",
        "\n",
        "        self.opt_conv1c = nn.Conv3d(16, 16, kernel_size=(1, 3, 3), stride=1, padding=(0, 1, 1))\n",
        "        self.opt_conv1d = nn.Conv3d(16, 16, kernel_size=(3, 1, 1), stride=1, padding=(1, 0, 0))\n",
        "        self.opt_pool1b = nn.MaxPool3d(kernel_size=(1, 2, 2), stride=(1, 2, 2))\n",
        "\n",
        "        self.opt_conv2a = nn.Conv3d(16, 32, kernel_size=(1, 3, 3), stride=1, padding=(0, 1, 1))\n",
        "        self.opt_conv2b = nn.Conv3d(32, 32, kernel_size=(3, 1, 1), stride=1, padding=(1, 0, 0))\n",
        "        self.opt_pool2a = nn.MaxPool3d(kernel_size=(1, 2, 2), stride=(1, 2, 2))\n",
        "\n",
        "        self.opt_conv2c = nn.Conv3d(32, 32, kernel_size=(1, 3, 3), stride=1, padding=(0, 1, 1))\n",
        "        self.opt_conv2d = nn.Conv3d(32, 32, kernel_size=(3, 1, 1), stride=1, padding=(1, 0, 0))\n",
        "        self.opt_pool2b = nn.MaxPool3d(kernel_size=(1, 2, 2), stride=(1, 2, 2))\n",
        "\n",
        "        # Fusion and Pooling\n",
        "        self.fusion_pool = nn.MaxPool3d(kernel_size=(8, 1, 1), stride=(8, 1, 1))\n",
        "\n",
        "        # Merge Block\n",
        "        self.merge_conv1a = nn.Conv3d(32, 64, kernel_size=(1, 3, 3), stride=1, padding=(0, 1, 1))\n",
        "        self.merge_conv1b = nn.Conv3d(64, 64, kernel_size=(3, 1, 1), stride=1, padding=(1, 0, 0))\n",
        "        self.merge_pool1a = nn.MaxPool3d(kernel_size=(2, 2, 2), stride=(2, 2, 2))\n",
        "\n",
        "        self.merge_conv1c = nn.Conv3d(64, 64, kernel_size=(1, 3, 3), stride=1, padding=(0, 1, 1))\n",
        "        self.merge_conv1d = nn.Conv3d(64, 64, kernel_size=(3, 1, 1), stride=1, padding=(1, 0, 0))\n",
        "        self.merge_pool1b = nn.MaxPool3d(kernel_size=(2, 3, 3), stride=(2, 2, 2))\n",
        "\n",
        "        self.merge_conv2a = nn.Conv3d(64, 128, kernel_size=(1, 3, 3), stride=1, padding=(0, 1, 1))\n",
        "        self.merge_conv2b = nn.Conv3d(128, 128, kernel_size=(3, 1, 1), stride=1, padding=(1, 0, 0))\n",
        "        self.merge_pool2a = nn.MaxPool3d(kernel_size=(2, 3, 3), stride=(2, 2, 2))\n",
        "\n",
        "        # Fully Connected Layers\n",
        "        self.fc1 = nn.Linear(128, 128)\n",
        "        self.dropout = nn.Dropout(0.2)\n",
        "        self.fc2 = nn.Linear(128, 32)\n",
        "        self.fc3 = nn.Linear(32, 2)\n",
        "\n",
        "        # Initialize weights\n",
        "        self.__init_weight()\n",
        "\n",
        "    def forward(self, x):\n",
        "        x = x.transpose(2,4).transpose(3,4).transpose(1,2)\n",
        "        rgb = x[:,:3,:,:,:]  # RGB\n",
        "        opt = x[:,3:5,:,:,:] # Optical Flow\n",
        "\n",
        "        # RGB blocks\n",
        "        rgb = self.relu(self.rgb_conv1a(rgb))\n",
        "        rgb = self.relu(self.rgb_conv1b(rgb))\n",
        "        rgb = self.rgb_pool1a(rgb)\n",
        "\n",
        "        # Residual block: rgb_conv1c/d (16->16)\n",
        "        rgb_input = rgb\n",
        "        rgb = self.relu(self.rgb_conv1c(rgb))\n",
        "        rgb = self.relu(self.rgb_conv1d(rgb))\n",
        "        rgb = rgb + rgb_input\n",
        "        rgb = self.rgb_pool1b(rgb)\n",
        "\n",
        "        rgb = self.relu(self.rgb_conv2a(rgb))\n",
        "        rgb = self.relu(self.rgb_conv2b(rgb))\n",
        "        rgb = self.rgb_pool2a(rgb)\n",
        "\n",
        "        # Residual block: rgb_conv2c/d (32->32)\n",
        "        rgb_input = rgb\n",
        "        rgb = self.relu(self.rgb_conv2c(rgb))\n",
        "        rgb = self.relu(self.rgb_conv2d(rgb))\n",
        "        rgb = rgb + rgb_input\n",
        "        rgb = self.rgb_pool2b(rgb)\n",
        "\n",
        "        # Optical Flow blocks\n",
        "        opt = self.relu(self.opt_conv1a(opt))\n",
        "        opt = self.relu(self.opt_conv1b(opt))\n",
        "        opt = self.opt_pool1a(opt)\n",
        "\n",
        "        # Residual block: opt_conv1c/d (16->16)\n",
        "        opt_input = opt\n",
        "        opt = self.relu(self.opt_conv1c(opt))\n",
        "        opt = self.relu(self.opt_conv1d(opt))\n",
        "        opt = opt + opt_input\n",
        "        opt = self.opt_pool1b(opt)\n",
        "\n",
        "        opt = self.relu(self.opt_conv2a(opt))\n",
        "        opt = self.relu(self.opt_conv2b(opt))\n",
        "        opt = self.opt_pool2a(opt)\n",
        "\n",
        "        # Residual block: opt_conv2c/d (32->32)\n",
        "        opt_input = opt\n",
        "        opt = self.relu(self.opt_conv2c(opt))\n",
        "        opt = self.relu(self.opt_conv2d(opt))\n",
        "        opt = opt + opt_input\n",
        "        opt = self.opt_pool2b(opt)\n",
        "\n",
        "        # Fusion\n",
        "        fused = rgb * opt\n",
        "        fused = self.fusion_pool(fused)\n",
        "\n",
        "        # Merging blocks\n",
        "        fused = self.relu(self.merge_conv1a(fused))\n",
        "        fused = self.relu(self.merge_conv1b(fused))\n",
        "        fused = self.merge_pool1a(fused)\n",
        "\n",
        "        # Residual block: merge_conv1c/d (64->64)\n",
        "        merged_input = fused\n",
        "        fused = self.relu(self.merge_conv1c(fused))\n",
        "        fused = self.relu(self.merge_conv1d(fused))\n",
        "        fused = fused + merged_input\n",
        "        fused = self.merge_pool1b(fused)\n",
        "\n",
        "        fused = self.relu(self.merge_conv2a(fused))\n",
        "        fused = self.relu(self.merge_conv2b(fused))\n",
        "        fused = self.merge_pool2a(fused)\n",
        "\n",
        "        # Fully Connected Layers\n",
        "        x = fused.view(fused.size(0), -1)\n",
        "        x = self.fc1(x)\n",
        "        x = self.relu(x)\n",
        "        x = self.dropout(x)\n",
        "        x = self.fc2(x)\n",
        "        x = self.relu(x)\n",
        "        x = self.fc3(x)\n",
        "\n",
        "        return x\n",
        "\n",
        "    def __init_weight(self):\n",
        "        for m in self.modules():\n",
        "            if isinstance(m, nn.Conv3d):\n",
        "                nn.init.kaiming_normal_(m.weight, mode='fan_out', nonlinearity='relu')"
      ],
      "metadata": {
        "id": "1IU4xJ4pSveW"
      },
      "execution_count": 7,
      "outputs": []
    },
    {
      "cell_type": "code",
      "source": [
        "!pip install wandb"
      ],
      "metadata": {
        "colab": {
          "base_uri": "https://localhost:8080/"
        },
        "id": "5RulDFAQTAqF",
        "outputId": "2cf62864-6721-440f-aab3-bafe1f60f8b5"
      },
      "execution_count": 8,
      "outputs": [
        {
          "output_type": "stream",
          "name": "stdout",
          "text": [
            "Requirement already satisfied: wandb in /usr/local/lib/python3.10/dist-packages (0.18.7)\n",
            "Requirement already satisfied: click!=8.0.0,>=7.1 in /usr/local/lib/python3.10/dist-packages (from wandb) (8.1.7)\n",
            "Requirement already satisfied: docker-pycreds>=0.4.0 in /usr/local/lib/python3.10/dist-packages (from wandb) (0.4.0)\n",
            "Requirement already satisfied: gitpython!=3.1.29,>=1.0.0 in /usr/local/lib/python3.10/dist-packages (from wandb) (3.1.43)\n",
            "Requirement already satisfied: platformdirs in /usr/local/lib/python3.10/dist-packages (from wandb) (4.3.6)\n",
            "Requirement already satisfied: protobuf!=4.21.0,!=5.28.0,<6,>=3.19.0 in /usr/local/lib/python3.10/dist-packages (from wandb) (4.25.5)\n",
            "Requirement already satisfied: psutil>=5.0.0 in /usr/local/lib/python3.10/dist-packages (from wandb) (5.9.5)\n",
            "Requirement already satisfied: pyyaml in /usr/local/lib/python3.10/dist-packages (from wandb) (6.0.2)\n",
            "Requirement already satisfied: requests<3,>=2.0.0 in /usr/local/lib/python3.10/dist-packages (from wandb) (2.32.3)\n",
            "Requirement already satisfied: sentry-sdk>=2.0.0 in /usr/local/lib/python3.10/dist-packages (from wandb) (2.19.0)\n",
            "Requirement already satisfied: setproctitle in /usr/local/lib/python3.10/dist-packages (from wandb) (1.3.4)\n",
            "Requirement already satisfied: setuptools in /usr/local/lib/python3.10/dist-packages (from wandb) (75.1.0)\n",
            "Requirement already satisfied: typing-extensions<5,>=4.4 in /usr/local/lib/python3.10/dist-packages (from wandb) (4.12.2)\n",
            "Requirement already satisfied: six>=1.4.0 in /usr/local/lib/python3.10/dist-packages (from docker-pycreds>=0.4.0->wandb) (1.16.0)\n",
            "Requirement already satisfied: gitdb<5,>=4.0.1 in /usr/local/lib/python3.10/dist-packages (from gitpython!=3.1.29,>=1.0.0->wandb) (4.0.11)\n",
            "Requirement already satisfied: charset-normalizer<4,>=2 in /usr/local/lib/python3.10/dist-packages (from requests<3,>=2.0.0->wandb) (3.4.0)\n",
            "Requirement already satisfied: idna<4,>=2.5 in /usr/local/lib/python3.10/dist-packages (from requests<3,>=2.0.0->wandb) (3.10)\n",
            "Requirement already satisfied: urllib3<3,>=1.21.1 in /usr/local/lib/python3.10/dist-packages (from requests<3,>=2.0.0->wandb) (2.2.3)\n",
            "Requirement already satisfied: certifi>=2017.4.17 in /usr/local/lib/python3.10/dist-packages (from requests<3,>=2.0.0->wandb) (2024.8.30)\n",
            "Requirement already satisfied: smmap<6,>=3.0.1 in /usr/local/lib/python3.10/dist-packages (from gitdb<5,>=4.0.1->gitpython!=3.1.29,>=1.0.0->wandb) (5.0.1)\n"
          ]
        }
      ]
    },
    {
      "cell_type": "code",
      "source": [
        "import torch.optim as optim\n",
        "from torch.optim.lr_scheduler import StepLR\n",
        "from torch.utils.data import DataLoader, Dataset\n",
        "import torch.nn as nn\n",
        "from tqdm import tqdm\n",
        "import wandb\n",
        "\n",
        "\n",
        "device = torch.device('cuda' if torch.cuda.is_available() else 'cpu')\n",
        "\n",
        "# define model, optimizer and criterion\n",
        "model = FusionModel().to(device)\n",
        "optimizer = optim.SGD(model.parameters(), lr=0.003, momentum=0.9, weight_decay=1e-6, nesterov=True)\n",
        "#optimizer = optim.Adam(model.parameters(), lr=0.003, betas=(0.9, 0.999), weight_decay=1e-6)\n",
        "loss_fn = nn.CrossEntropyLoss().to(device)\n",
        "\n",
        "trainset_path = '/content/drive/MyDrive/Colab Notebooks/IC_PBL/dataset/npy_dataset/train'\n",
        "validation_path = '/content/drive/MyDrive/Colab Notebooks/IC_PBL/dataset/npy_dataset/val'\n",
        "\n",
        "# define dataset and dataloader\n",
        "train_dataset = DataGenerator(directory=trainset_path, data_augmentation=True)\n",
        "val_dataset = DataGenerator(directory=validation_path, data_augmentation=True)\n",
        "train_loader = DataLoader(train_dataset, batch_size=4, shuffle=True, num_workers=0)\n",
        "val_loader = DataLoader(val_dataset, batch_size=4, shuffle=True, num_workers=0)\n",
        "\n",
        "# epoch = 30\n",
        "# learning rate = 0.003\n",
        "\n",
        "# optimizer = SGD\n",
        "# weight decay = 1e-6\n",
        "# momentum = 0.9\n",
        "# nesterov = True\n",
        "# gamma = 0.7\n",
        "\n",
        "# loss = CrossEntropy\n",
        "\n",
        "# assign device cpu or gpu\n",
        "min_loss = np.inf\n",
        ""
      ],
      "metadata": {
        "colab": {
          "base_uri": "https://localhost:8080/"
        },
        "id": "LRupqVZHTENc",
        "outputId": "489f88f7-0ea4-4f5d-c636-d228bb6f853c"
      },
      "execution_count": 9,
      "outputs": [
        {
          "output_type": "stream",
          "name": "stdout",
          "text": [
            "Found 160 files belonging to 2 classes.\n",
            "Fight      : 0\n",
            "NonFight   : 1\n",
            "Found 40 files belonging to 2 classes.\n",
            "Fight      : 0\n",
            "NonFight   : 1\n"
          ]
        }
      ]
    },
    {
      "cell_type": "code",
      "source": [
        "def _train():\n",
        "\n",
        "    model.train()\n",
        "    acc_temp = 0\n",
        "    running_loss = 0\n",
        "\n",
        "    # forward propagation and backpropagation\n",
        "    # calculate accuracy and loss on training set\n",
        "    for data, label in tqdm(train_loader):\n",
        "\n",
        "        data = data.to(device)\n",
        "        label = label.to(device)\n",
        "\n",
        "        optimizer.zero_grad()\n",
        "        outputs = model(data)\n",
        "\n",
        "        #print(\"outputs\", outputs)\n",
        "        #print(\"label\", label)\n",
        "        #print(\"max(label, 1)\", torch.max(label, 1))\n",
        "        #print(\"max(label, 1)[1]\", torch.max(label, 1)[1])\n",
        "\n",
        "\n",
        "        loss = loss_fn(outputs, torch.max(label, 1)[1])  # 원-핫 레이블을 클래스 인덱스로 변환\n",
        "\n",
        "        loss.backward()\n",
        "        optimizer.step()\n",
        "\n",
        "        running_loss += loss.item() * data.size(0)\n",
        "        preds = torch.argmax(outputs, dim=1)\n",
        "        #print(\"preds\", preds)\n",
        "        acc_temp += torch.sum(preds == torch.max(label, 1)[1])\n",
        "        #print(\"acc_temp\", acc_temp)\n",
        "        #print('_______________________________________')\n",
        "\n",
        "    train_acc = acc_temp / len(train_loader.dataset)\n",
        "    train_loss = running_loss / len(train_loader.dataset)\n",
        "\n",
        "    return train_acc, train_loss"
      ],
      "metadata": {
        "id": "ymUuleCLTIJL"
      },
      "execution_count": 10,
      "outputs": []
    },
    {
      "cell_type": "code",
      "source": [
        "def _val():\n",
        "    model.eval()\n",
        "    with torch.no_grad():\n",
        "        running_loss_val = 0\n",
        "        acc_temp_val =0\n",
        "\n",
        "        # calculate accuracy and loss on validation set\n",
        "        for data, label in tqdm(val_loader):\n",
        "            data = data.to(device)\n",
        "            label = label.to(device)\n",
        "\n",
        "            outputs = model(data)\n",
        "\n",
        "            # Debugging Outputs\n",
        "            #print(\"Output Shape: \", outputs.shape)\n",
        "            #print(\"Label Shape: \", label.shape)\n",
        "            #print(\"Output: \", outputs)\n",
        "\n",
        "\n",
        "            loss = loss_fn(outputs, torch.max(label, 1)[1])\n",
        "\n",
        "            running_loss_val += loss.item() * data.size(0)\n",
        "            preds = torch.argmax(outputs, dim=1)\n",
        "            acc_temp_val += torch.sum(preds == torch.max(label, 1)[1])\n",
        "\n",
        "    val_acc = acc_temp_val / len(val_loader.dataset)\n",
        "    val_loss = running_loss_val / len(val_loader.dataset)\n",
        "\n",
        "    return val_acc.item(), val_loss"
      ],
      "metadata": {
        "id": "XLVKJl_oTNxx"
      },
      "execution_count": 11,
      "outputs": []
    },
    {
      "cell_type": "code",
      "source": [
        "import random\n",
        "import numpy as np\n",
        "\n",
        "scheduler = StepLR(optimizer, step_size=10, gamma=0.7)\n",
        "seed=1\n",
        "random.seed(seed)\n",
        "np.random.seed(seed)\n",
        "device='cuda' if torch.cuda.is_available() else 'cpu'\n",
        "torch.manual_seed(seed)\n",
        "if device =='cuda':\n",
        "    print('gpu device is using')\n",
        "    torch.cuda.manual_seed_all(seed)\n",
        "torch.backends.cudnn.deterministic=True\n",
        "torch.backends.cudnn.benchmark=False\n",
        "\n",
        "#wandb.login()\n",
        "wandb.init()\n",
        "\n",
        "num_epochs = 30  # 에포크 수를 정의합니다\n",
        "for epoch in range(1, num_epochs + 1):\n",
        "    # Perform training and validation\n",
        "    # Save the weights\n",
        "    # Log the training and validation results\n",
        "\n",
        "    print(f'Epoch {epoch}/{num_epochs}')\n",
        "\n",
        "    # 훈련 함수 호출\n",
        "    train_acc, train_loss = _train()\n",
        "\n",
        "    # 검증 함수 호출\n",
        "    val_acc, val_loss = _val()\n",
        "\n",
        "    #헉습률 추출\n",
        "    current_lr = optimizer.param_groups[0]['lr']\n",
        "\n",
        "    # 학습률 스케줄러 업데이트\n",
        "    scheduler.step()\n",
        "\n",
        "    # 검증 손실이 감소하면 모델 가중치 저장\n",
        "    if val_loss < min_loss:\n",
        "        min_loss = val_loss\n",
        "        torch.save(model.state_dict(), f'best_model_epoch_ver3_{epoch}.pth')\n",
        "        print(f'Validation loss decreased, model saved as best_model_epoch_{epoch}.pth')\n",
        "\n",
        "    # 훈련 및 검증 결과를 로깅\n",
        "    wandb.log({\n",
        "        'epoch': epoch,\n",
        "        'train_loss': train_loss,\n",
        "        'train_accuracy': train_acc,\n",
        "        'val_loss': val_loss,\n",
        "        'val_accuracy': val_acc,\n",
        "        'learning_rate': current_lr\n",
        "    })\n",
        "\n",
        "    # 결과 출력\n",
        "    print(f'Train Loss: {train_loss:.4f}, Train Acc: {train_acc:.4f}')\n",
        "    print(f'Val Loss: {val_loss:.4f}, Val Acc: {val_acc:.4f}')"
      ],
      "metadata": {
        "colab": {
          "base_uri": "https://localhost:8080/",
          "height": 1000
        },
        "id": "h2I7uDfDTQzs",
        "outputId": "fd298be4-5ccf-40d6-8f30-6ff9e6842bdf"
      },
      "execution_count": 12,
      "outputs": [
        {
          "output_type": "stream",
          "name": "stdout",
          "text": [
            "gpu device is using\n"
          ]
        },
        {
          "output_type": "stream",
          "name": "stderr",
          "text": [
            "\u001b[34m\u001b[1mwandb\u001b[0m: Using wandb-core as the SDK backend.  Please refer to https://wandb.me/wandb-core for more information.\n"
          ]
        },
        {
          "output_type": "display_data",
          "data": {
            "text/plain": [
              "<IPython.core.display.Javascript object>"
            ],
            "application/javascript": [
              "\n",
              "        window._wandbApiKey = new Promise((resolve, reject) => {\n",
              "            function loadScript(url) {\n",
              "            return new Promise(function(resolve, reject) {\n",
              "                let newScript = document.createElement(\"script\");\n",
              "                newScript.onerror = reject;\n",
              "                newScript.onload = resolve;\n",
              "                document.body.appendChild(newScript);\n",
              "                newScript.src = url;\n",
              "            });\n",
              "            }\n",
              "            loadScript(\"https://cdn.jsdelivr.net/npm/postmate/build/postmate.min.js\").then(() => {\n",
              "            const iframe = document.createElement('iframe')\n",
              "            iframe.style.cssText = \"width:0;height:0;border:none\"\n",
              "            document.body.appendChild(iframe)\n",
              "            const handshake = new Postmate({\n",
              "                container: iframe,\n",
              "                url: 'https://wandb.ai/authorize'\n",
              "            });\n",
              "            const timeout = setTimeout(() => reject(\"Couldn't auto authenticate\"), 5000)\n",
              "            handshake.then(function(child) {\n",
              "                child.on('authorize', data => {\n",
              "                    clearTimeout(timeout)\n",
              "                    resolve(data)\n",
              "                });\n",
              "            });\n",
              "            })\n",
              "        });\n",
              "    "
            ]
          },
          "metadata": {}
        },
        {
          "output_type": "stream",
          "name": "stderr",
          "text": [
            "\u001b[34m\u001b[1mwandb\u001b[0m: Logging into wandb.ai. (Learn how to deploy a W&B server locally: https://wandb.me/wandb-server)\n",
            "\u001b[34m\u001b[1mwandb\u001b[0m: You can find your API key in your browser here: https://wandb.ai/authorize\n",
            "wandb: Paste an API key from your profile and hit enter, or press ctrl+c to quit:"
          ]
        },
        {
          "name": "stdout",
          "output_type": "stream",
          "text": [
            " ··········\n"
          ]
        },
        {
          "output_type": "stream",
          "name": "stderr",
          "text": [
            "\u001b[34m\u001b[1mwandb\u001b[0m: Appending key for api.wandb.ai to your netrc file: /root/.netrc\n"
          ]
        },
        {
          "output_type": "display_data",
          "data": {
            "text/plain": [
              "<IPython.core.display.HTML object>"
            ],
            "text/html": [
              "Tracking run with wandb version 0.18.7"
            ]
          },
          "metadata": {}
        },
        {
          "output_type": "display_data",
          "data": {
            "text/plain": [
              "<IPython.core.display.HTML object>"
            ],
            "text/html": [
              "Run data is saved locally in <code>/content/wandb/run-20241211_045113-37h17i0x</code>"
            ]
          },
          "metadata": {}
        },
        {
          "output_type": "display_data",
          "data": {
            "text/plain": [
              "<IPython.core.display.HTML object>"
            ],
            "text/html": [
              "Syncing run <strong><a href='https://wandb.ai/guno/uncategorized/runs/37h17i0x' target=\"_blank\">swept-snowflake-4</a></strong> to <a href='https://wandb.ai/guno/uncategorized' target=\"_blank\">Weights & Biases</a> (<a href='https://wandb.me/developer-guide' target=\"_blank\">docs</a>)<br/>"
            ]
          },
          "metadata": {}
        },
        {
          "output_type": "display_data",
          "data": {
            "text/plain": [
              "<IPython.core.display.HTML object>"
            ],
            "text/html": [
              " View project at <a href='https://wandb.ai/guno/uncategorized' target=\"_blank\">https://wandb.ai/guno/uncategorized</a>"
            ]
          },
          "metadata": {}
        },
        {
          "output_type": "display_data",
          "data": {
            "text/plain": [
              "<IPython.core.display.HTML object>"
            ],
            "text/html": [
              " View run at <a href='https://wandb.ai/guno/uncategorized/runs/37h17i0x' target=\"_blank\">https://wandb.ai/guno/uncategorized/runs/37h17i0x</a>"
            ]
          },
          "metadata": {}
        },
        {
          "output_type": "stream",
          "name": "stdout",
          "text": [
            "Epoch 1/30\n"
          ]
        },
        {
          "output_type": "stream",
          "name": "stderr",
          "text": [
            "100%|██████████| 40/40 [03:05<00:00,  4.64s/it]\n",
            "100%|██████████| 10/10 [00:36<00:00,  3.65s/it]\n"
          ]
        },
        {
          "output_type": "stream",
          "name": "stdout",
          "text": [
            "Validation loss decreased, model saved as best_model_epoch_1.pth\n",
            "Train Loss: 0.7060, Train Acc: 0.4750\n",
            "Val Loss: 0.6887, Val Acc: 0.5000\n",
            "Epoch 2/30\n"
          ]
        },
        {
          "output_type": "stream",
          "name": "stderr",
          "text": [
            "100%|██████████| 40/40 [02:58<00:00,  4.47s/it]\n",
            "100%|██████████| 10/10 [00:37<00:00,  3.70s/it]\n"
          ]
        },
        {
          "output_type": "stream",
          "name": "stdout",
          "text": [
            "Validation loss decreased, model saved as best_model_epoch_2.pth\n",
            "Train Loss: 0.6891, Train Acc: 0.5188\n",
            "Val Loss: 0.6844, Val Acc: 0.5750\n",
            "Epoch 3/30\n"
          ]
        },
        {
          "output_type": "stream",
          "name": "stderr",
          "text": [
            "100%|██████████| 40/40 [02:55<00:00,  4.38s/it]\n",
            "100%|██████████| 10/10 [00:36<00:00,  3.65s/it]\n"
          ]
        },
        {
          "output_type": "stream",
          "name": "stdout",
          "text": [
            "Validation loss decreased, model saved as best_model_epoch_3.pth\n",
            "Train Loss: 0.6856, Train Acc: 0.5813\n",
            "Val Loss: 0.6777, Val Acc: 0.5250\n",
            "Epoch 4/30\n"
          ]
        },
        {
          "output_type": "stream",
          "name": "stderr",
          "text": [
            "100%|██████████| 40/40 [02:50<00:00,  4.27s/it]\n",
            "100%|██████████| 10/10 [00:36<00:00,  3.62s/it]\n"
          ]
        },
        {
          "output_type": "stream",
          "name": "stdout",
          "text": [
            "Validation loss decreased, model saved as best_model_epoch_4.pth\n",
            "Train Loss: 0.6750, Train Acc: 0.5625\n",
            "Val Loss: 0.6710, Val Acc: 0.5000\n",
            "Epoch 5/30\n"
          ]
        },
        {
          "output_type": "stream",
          "name": "stderr",
          "text": [
            "100%|██████████| 40/40 [02:50<00:00,  4.26s/it]\n",
            "100%|██████████| 10/10 [00:36<00:00,  3.63s/it]\n"
          ]
        },
        {
          "output_type": "stream",
          "name": "stdout",
          "text": [
            "Train Loss: 0.6616, Train Acc: 0.6125\n",
            "Val Loss: 0.6891, Val Acc: 0.5000\n",
            "Epoch 6/30\n"
          ]
        },
        {
          "output_type": "stream",
          "name": "stderr",
          "text": [
            "100%|██████████| 40/40 [02:45<00:00,  4.14s/it]\n",
            "100%|██████████| 10/10 [00:37<00:00,  3.72s/it]\n"
          ]
        },
        {
          "output_type": "stream",
          "name": "stdout",
          "text": [
            "Validation loss decreased, model saved as best_model_epoch_6.pth\n",
            "Train Loss: 0.6790, Train Acc: 0.6062\n",
            "Val Loss: 0.6544, Val Acc: 0.7250\n",
            "Epoch 7/30\n"
          ]
        },
        {
          "output_type": "stream",
          "name": "stderr",
          "text": [
            "100%|██████████| 40/40 [02:44<00:00,  4.10s/it]\n",
            "100%|██████████| 10/10 [00:36<00:00,  3.64s/it]\n"
          ]
        },
        {
          "output_type": "stream",
          "name": "stdout",
          "text": [
            "Validation loss decreased, model saved as best_model_epoch_7.pth\n",
            "Train Loss: 0.6539, Train Acc: 0.6375\n",
            "Val Loss: 0.6506, Val Acc: 0.6750\n",
            "Epoch 8/30\n"
          ]
        },
        {
          "output_type": "stream",
          "name": "stderr",
          "text": [
            "100%|██████████| 40/40 [02:42<00:00,  4.05s/it]\n",
            "100%|██████████| 10/10 [00:36<00:00,  3.61s/it]\n"
          ]
        },
        {
          "output_type": "stream",
          "name": "stdout",
          "text": [
            "Validation loss decreased, model saved as best_model_epoch_8.pth\n",
            "Train Loss: 0.6308, Train Acc: 0.6813\n",
            "Val Loss: 0.6314, Val Acc: 0.6500\n",
            "Epoch 9/30\n"
          ]
        },
        {
          "output_type": "stream",
          "name": "stderr",
          "text": [
            "100%|██████████| 40/40 [02:46<00:00,  4.16s/it]\n",
            "100%|██████████| 10/10 [00:34<00:00,  3.46s/it]\n"
          ]
        },
        {
          "output_type": "stream",
          "name": "stdout",
          "text": [
            "Validation loss decreased, model saved as best_model_epoch_9.pth\n",
            "Train Loss: 0.6138, Train Acc: 0.6500\n",
            "Val Loss: 0.5845, Val Acc: 0.8250\n",
            "Epoch 10/30\n"
          ]
        },
        {
          "output_type": "stream",
          "name": "stderr",
          "text": [
            "100%|██████████| 40/40 [02:44<00:00,  4.12s/it]\n",
            "100%|██████████| 10/10 [00:36<00:00,  3.63s/it]\n"
          ]
        },
        {
          "output_type": "stream",
          "name": "stdout",
          "text": [
            "Validation loss decreased, model saved as best_model_epoch_10.pth\n",
            "Train Loss: 0.5761, Train Acc: 0.7125\n",
            "Val Loss: 0.4784, Val Acc: 0.9000\n",
            "Epoch 11/30\n"
          ]
        },
        {
          "output_type": "stream",
          "name": "stderr",
          "text": [
            "100%|██████████| 40/40 [02:41<00:00,  4.05s/it]\n",
            "100%|██████████| 10/10 [00:36<00:00,  3.68s/it]\n"
          ]
        },
        {
          "output_type": "stream",
          "name": "stdout",
          "text": [
            "Validation loss decreased, model saved as best_model_epoch_11.pth\n",
            "Train Loss: 0.5659, Train Acc: 0.7375\n",
            "Val Loss: 0.4562, Val Acc: 0.9000\n",
            "Epoch 12/30\n"
          ]
        },
        {
          "output_type": "stream",
          "name": "stderr",
          "text": [
            "100%|██████████| 40/40 [02:43<00:00,  4.10s/it]\n",
            "100%|██████████| 10/10 [00:34<00:00,  3.41s/it]\n"
          ]
        },
        {
          "output_type": "stream",
          "name": "stdout",
          "text": [
            "Validation loss decreased, model saved as best_model_epoch_12.pth\n",
            "Train Loss: 0.5436, Train Acc: 0.7438\n",
            "Val Loss: 0.4359, Val Acc: 0.8000\n",
            "Epoch 13/30\n"
          ]
        },
        {
          "output_type": "stream",
          "name": "stderr",
          "text": [
            "100%|██████████| 40/40 [02:46<00:00,  4.17s/it]\n",
            "100%|██████████| 10/10 [00:33<00:00,  3.33s/it]\n"
          ]
        },
        {
          "output_type": "stream",
          "name": "stdout",
          "text": [
            "Validation loss decreased, model saved as best_model_epoch_13.pth\n",
            "Train Loss: 0.5405, Train Acc: 0.7375\n",
            "Val Loss: 0.4135, Val Acc: 0.8750\n",
            "Epoch 14/30\n"
          ]
        },
        {
          "output_type": "stream",
          "name": "stderr",
          "text": [
            "100%|██████████| 40/40 [02:46<00:00,  4.16s/it]\n",
            "100%|██████████| 10/10 [00:33<00:00,  3.35s/it]\n"
          ]
        },
        {
          "output_type": "stream",
          "name": "stdout",
          "text": [
            "Validation loss decreased, model saved as best_model_epoch_14.pth\n",
            "Train Loss: 0.5083, Train Acc: 0.7875\n",
            "Val Loss: 0.3827, Val Acc: 0.9000\n",
            "Epoch 15/30\n"
          ]
        },
        {
          "output_type": "stream",
          "name": "stderr",
          "text": [
            "100%|██████████| 40/40 [02:43<00:00,  4.08s/it]\n",
            "100%|██████████| 10/10 [00:33<00:00,  3.34s/it]\n"
          ]
        },
        {
          "output_type": "stream",
          "name": "stdout",
          "text": [
            "Validation loss decreased, model saved as best_model_epoch_15.pth\n",
            "Train Loss: 0.4571, Train Acc: 0.7812\n",
            "Val Loss: 0.3812, Val Acc: 0.9000\n",
            "Epoch 16/30\n"
          ]
        },
        {
          "output_type": "stream",
          "name": "stderr",
          "text": [
            "100%|██████████| 40/40 [02:47<00:00,  4.18s/it]\n",
            "100%|██████████| 10/10 [00:34<00:00,  3.43s/it]\n"
          ]
        },
        {
          "output_type": "stream",
          "name": "stdout",
          "text": [
            "Validation loss decreased, model saved as best_model_epoch_16.pth\n",
            "Train Loss: 0.4733, Train Acc: 0.7500\n",
            "Val Loss: 0.3562, Val Acc: 0.9000\n",
            "Epoch 17/30\n"
          ]
        },
        {
          "output_type": "stream",
          "name": "stderr",
          "text": [
            "100%|██████████| 40/40 [02:48<00:00,  4.21s/it]\n",
            "100%|██████████| 10/10 [00:32<00:00,  3.28s/it]\n"
          ]
        },
        {
          "output_type": "stream",
          "name": "stdout",
          "text": [
            "Validation loss decreased, model saved as best_model_epoch_17.pth\n",
            "Train Loss: 0.4481, Train Acc: 0.8188\n",
            "Val Loss: 0.3506, Val Acc: 0.9000\n",
            "Epoch 18/30\n"
          ]
        },
        {
          "output_type": "stream",
          "name": "stderr",
          "text": [
            "100%|██████████| 40/40 [02:50<00:00,  4.27s/it]\n",
            "100%|██████████| 10/10 [00:32<00:00,  3.28s/it]\n"
          ]
        },
        {
          "output_type": "stream",
          "name": "stdout",
          "text": [
            "Train Loss: 0.5130, Train Acc: 0.7812\n",
            "Val Loss: 0.4883, Val Acc: 0.8000\n",
            "Epoch 19/30\n"
          ]
        },
        {
          "output_type": "stream",
          "name": "stderr",
          "text": [
            "100%|██████████| 40/40 [02:42<00:00,  4.07s/it]\n",
            "100%|██████████| 10/10 [00:32<00:00,  3.27s/it]\n"
          ]
        },
        {
          "output_type": "stream",
          "name": "stdout",
          "text": [
            "Train Loss: 0.4971, Train Acc: 0.7750\n",
            "Val Loss: 0.3724, Val Acc: 0.8500\n",
            "Epoch 20/30\n"
          ]
        },
        {
          "output_type": "stream",
          "name": "stderr",
          "text": [
            "100%|██████████| 40/40 [02:46<00:00,  4.15s/it]\n",
            "100%|██████████| 10/10 [00:34<00:00,  3.44s/it]\n"
          ]
        },
        {
          "output_type": "stream",
          "name": "stdout",
          "text": [
            "Train Loss: 0.3666, Train Acc: 0.8500\n",
            "Val Loss: 0.4543, Val Acc: 0.7750\n",
            "Epoch 21/30\n"
          ]
        },
        {
          "output_type": "stream",
          "name": "stderr",
          "text": [
            "100%|██████████| 40/40 [02:49<00:00,  4.24s/it]\n",
            "100%|██████████| 10/10 [00:30<00:00,  3.10s/it]\n"
          ]
        },
        {
          "output_type": "stream",
          "name": "stdout",
          "text": [
            "Train Loss: 0.3764, Train Acc: 0.8625\n",
            "Val Loss: 0.4598, Val Acc: 0.7750\n",
            "Epoch 22/30\n"
          ]
        },
        {
          "output_type": "stream",
          "name": "stderr",
          "text": [
            "100%|██████████| 40/40 [02:41<00:00,  4.05s/it]\n",
            "100%|██████████| 10/10 [00:29<00:00,  2.90s/it]\n"
          ]
        },
        {
          "output_type": "stream",
          "name": "stdout",
          "text": [
            "Train Loss: 0.3447, Train Acc: 0.8500\n",
            "Val Loss: 0.4326, Val Acc: 0.8250\n",
            "Epoch 23/30\n"
          ]
        },
        {
          "output_type": "stream",
          "name": "stderr",
          "text": [
            "100%|██████████| 40/40 [02:44<00:00,  4.12s/it]\n",
            "100%|██████████| 10/10 [00:31<00:00,  3.19s/it]\n"
          ]
        },
        {
          "output_type": "stream",
          "name": "stdout",
          "text": [
            "Train Loss: 0.3585, Train Acc: 0.8313\n",
            "Val Loss: 0.5028, Val Acc: 0.8250\n",
            "Epoch 24/30\n"
          ]
        },
        {
          "output_type": "stream",
          "name": "stderr",
          "text": [
            "100%|██████████| 40/40 [02:41<00:00,  4.04s/it]\n",
            "100%|██████████| 10/10 [00:33<00:00,  3.32s/it]\n"
          ]
        },
        {
          "output_type": "stream",
          "name": "stdout",
          "text": [
            "Validation loss decreased, model saved as best_model_epoch_24.pth\n",
            "Train Loss: 0.4816, Train Acc: 0.7750\n",
            "Val Loss: 0.3297, Val Acc: 0.8750\n",
            "Epoch 25/30\n"
          ]
        },
        {
          "output_type": "stream",
          "name": "stderr",
          "text": [
            "100%|██████████| 40/40 [02:43<00:00,  4.08s/it]\n",
            "100%|██████████| 10/10 [00:32<00:00,  3.28s/it]\n"
          ]
        },
        {
          "output_type": "stream",
          "name": "stdout",
          "text": [
            "Train Loss: 0.3591, Train Acc: 0.8375\n",
            "Val Loss: 0.9664, Val Acc: 0.5250\n",
            "Epoch 26/30\n"
          ]
        },
        {
          "output_type": "stream",
          "name": "stderr",
          "text": [
            "100%|██████████| 40/40 [02:46<00:00,  4.16s/it]\n",
            "100%|██████████| 10/10 [00:30<00:00,  3.02s/it]\n"
          ]
        },
        {
          "output_type": "stream",
          "name": "stdout",
          "text": [
            "Train Loss: 0.3778, Train Acc: 0.8438\n",
            "Val Loss: 0.4356, Val Acc: 0.7750\n",
            "Epoch 27/30\n"
          ]
        },
        {
          "output_type": "stream",
          "name": "stderr",
          "text": [
            "100%|██████████| 40/40 [02:45<00:00,  4.13s/it]\n",
            "100%|██████████| 10/10 [00:31<00:00,  3.17s/it]\n"
          ]
        },
        {
          "output_type": "stream",
          "name": "stdout",
          "text": [
            "Train Loss: 0.2622, Train Acc: 0.9187\n",
            "Val Loss: 0.4410, Val Acc: 0.8000\n",
            "Epoch 28/30\n"
          ]
        },
        {
          "output_type": "stream",
          "name": "stderr",
          "text": [
            "100%|██████████| 40/40 [02:42<00:00,  4.07s/it]\n",
            "100%|██████████| 10/10 [00:30<00:00,  3.01s/it]\n"
          ]
        },
        {
          "output_type": "stream",
          "name": "stdout",
          "text": [
            "Train Loss: 0.4390, Train Acc: 0.8250\n",
            "Val Loss: 0.3676, Val Acc: 0.8500\n",
            "Epoch 29/30\n"
          ]
        },
        {
          "output_type": "stream",
          "name": "stderr",
          "text": [
            "100%|██████████| 40/40 [02:37<00:00,  3.95s/it]\n",
            "100%|██████████| 10/10 [00:29<00:00,  2.92s/it]\n"
          ]
        },
        {
          "output_type": "stream",
          "name": "stdout",
          "text": [
            "Train Loss: 0.3153, Train Acc: 0.8625\n",
            "Val Loss: 0.3436, Val Acc: 0.8500\n",
            "Epoch 30/30\n"
          ]
        },
        {
          "output_type": "stream",
          "name": "stderr",
          "text": [
            "100%|██████████| 40/40 [02:36<00:00,  3.92s/it]\n",
            "100%|██████████| 10/10 [00:31<00:00,  3.18s/it]"
          ]
        },
        {
          "output_type": "stream",
          "name": "stdout",
          "text": [
            "Validation loss decreased, model saved as best_model_epoch_30.pth\n",
            "Train Loss: 0.1871, Train Acc: 0.9500\n",
            "Val Loss: 0.3182, Val Acc: 0.9000\n"
          ]
        },
        {
          "output_type": "stream",
          "name": "stderr",
          "text": [
            "\n"
          ]
        }
      ]
    },
    {
      "cell_type": "code",
      "source": [
        "best_model = '/content/best_model_epoch_ver3_30.pth'\n",
        "test_path = '/content/drive/MyDrive/Colab Notebooks/IC_PBL/dataset/npy_dataset/test'\n",
        "\n",
        "test_dataset = DataGenerator(directory=test_path, data_augmentation=False)\n",
        "test_loader = DataLoader(test_dataset, batch_size=1, shuffle=True, num_workers=0)"
      ],
      "metadata": {
        "colab": {
          "base_uri": "https://localhost:8080/"
        },
        "id": "mzfH8JAAT6be",
        "outputId": "f3f55458-9320-4170-b7bb-ba4a99aad451"
      },
      "execution_count": 13,
      "outputs": [
        {
          "output_type": "stream",
          "name": "stdout",
          "text": [
            "Found 20 files belonging to 2 classes.\n",
            "Fight      : 0\n",
            "NonFight   : 1\n"
          ]
        }
      ]
    },
    {
      "cell_type": "code",
      "source": [
        "from sklearn.metrics import roc_auc_score, roc_curve\n",
        "import matplotlib.pyplot as plt\n",
        "\n",
        "model.load_state_dict(torch.load(best_model))\n",
        "model.eval()\n",
        "\n",
        "all_labels = []\n",
        "all_probs = []\n",
        "\n",
        "\n",
        "with torch.no_grad():\n",
        "    correct = 0\n",
        "    total = 0\n",
        "    for inputs, labels in test_loader:\n",
        "        inputs = inputs.cuda() if torch.cuda.is_available() else inputs\n",
        "        labels = labels.cuda() if torch.cuda.is_available() else labels\n",
        "\n",
        "        # labels가 one-hot이므로 argmax를 이용해 정수 라벨로 변환\n",
        "        labels = torch.argmax(labels, dim=1)\n",
        "\n",
        "        outputs = model(inputs)\n",
        "\n",
        "        # softmax로 확률 변환 (이진 분류 가정: positive 클래스 확률)\n",
        "        probs = F.softmax(outputs, dim=1)[:, 1]\n",
        "\n",
        "        # 예측 라벨\n",
        "        preds = torch.argmax(outputs, dim=1)\n",
        "\n",
        "        correct += (preds == labels).sum().item()\n",
        "        total += labels.size(0)\n",
        "\n",
        "        # CPU로 이동 후 numpy 변환\n",
        "        all_labels.extend(labels.cpu().numpy())\n",
        "        all_probs.extend(probs.cpu().numpy())\n",
        "\n",
        "    accuracy = correct / total\n",
        "    print(\"test accuracy : {:.2f}\".format(accuracy))\n",
        "\n",
        "    # AUROC 계산\n",
        "    auroc = roc_auc_score(all_labels, all_probs)\n",
        "    print(\"AUROC: {:.2f}\".format(auroc))\n",
        "\n",
        "    # ROC 커브 계산\n",
        "    fpr, tpr, thresholds = roc_curve(all_labels, all_probs)\n",
        "\n",
        "    # ROC 커브 플롯\n",
        "    plt.figure()\n",
        "    plt.plot(fpr, tpr, label='AUROC = {:.2f}'.format(auroc))\n",
        "    plt.plot([0,1],[0,1],'--', color='gray', label='Random')\n",
        "    plt.xlim([0.0, 1.0])\n",
        "    plt.ylim([0.0, 1.05])\n",
        "    plt.xlabel('False Positive Rate')\n",
        "    plt.ylabel('True Positive Rate')\n",
        "    plt.title('Receiver Operating Characteristic (ROC) Curve')\n",
        "    plt.legend(loc=\"lower right\")\n",
        "    plt.show()"
      ],
      "metadata": {
        "colab": {
          "base_uri": "https://localhost:8080/",
          "height": 563
        },
        "id": "SmQAVyd6T6_q",
        "outputId": "5db73d46-fc43-4f24-cb78-d1bb7496f205"
      },
      "execution_count": 15,
      "outputs": [
        {
          "output_type": "stream",
          "name": "stderr",
          "text": [
            "<ipython-input-15-6362dbd0e123>:4: FutureWarning: You are using `torch.load` with `weights_only=False` (the current default value), which uses the default pickle module implicitly. It is possible to construct malicious pickle data which will execute arbitrary code during unpickling (See https://github.com/pytorch/pytorch/blob/main/SECURITY.md#untrusted-models for more details). In a future release, the default value for `weights_only` will be flipped to `True`. This limits the functions that could be executed during unpickling. Arbitrary objects will no longer be allowed to be loaded via this mode unless they are explicitly allowlisted by the user via `torch.serialization.add_safe_globals`. We recommend you start setting `weights_only=True` for any use case where you don't have full control of the loaded file. Please open an issue on GitHub for any issues related to this experimental feature.\n",
            "  model.load_state_dict(torch.load(best_model))\n"
          ]
        },
        {
          "output_type": "stream",
          "name": "stdout",
          "text": [
            "test accuracy : 0.80\n",
            "AUROC: 0.88\n"
          ]
        },
        {
          "output_type": "display_data",
          "data": {
            "text/plain": [
              "<Figure size 640x480 with 1 Axes>"
            ],
            "image/png": "[encoded data removed]"
          },
          "metadata": {}
        }
      ]
    },
    {
      "cell_type": "code",
      "source": [],
      "metadata": {
        "id": "gnENew2nbNt-"
      },
      "execution_count": null,
      "outputs": []
    }
  ]
}