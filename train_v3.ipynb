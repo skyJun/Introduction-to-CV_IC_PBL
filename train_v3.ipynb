{
 "cells": [
  {
   "cell_type": "markdown",
   "metadata": {},
   "source": [
    "Modified and verified by **Heejoon Moon**\n",
    "- version: 11.28"
   ]
  },
  {
   "cell_type": "markdown",
   "metadata": {},
   "source": [
    "## **0. Preprocessing Data**\n",
    "- concat RGB frames and opticalflow\n",
    "- transform videos to '.npy' format\n",
    "  - '.npy' has 5 channels -> RGB (3) and opticalflow ((u, v) -> 2)\n",
    "  - you can use another opticalflow algorithms"
   ]
  },
  {
   "cell_type": "code",
   "execution_count": 1,
   "metadata": {},
   "outputs": [],
   "source": [
    "import cv2\n",
    "import numpy as np\n",
    "import matplotlib.pyplot as plt\n",
    "import os\n",
    "from tqdm import tqdm\n",
    "\n",
    "def getOpticalFlow(video):\n",
    "    \"\"\"Calculate dense optical flow of input video\n",
    "    Args:\n",
    "        video: the input video with shape of [frames,height,width,channel]. dtype=np.array\n",
    "    Returns:\n",
    "        flows_x: the optical flow at x-axis, with the shape of [frames,height,width,channel]\n",
    "        flows_y: the optical flow at y-axis, with the shape of [frames,height,width,channel]\n",
    "    \"\"\"\n",
    "    # initialize the list of optical flows\n",
    "    gray_video = []\n",
    "    for i in range(len(video)):\n",
    "        img = cv2.cvtColor(video[i], cv2.COLOR_RGB2GRAY)\n",
    "        gray_video.append(np.reshape(img, (224, 224, 1)))\n",
    "\n",
    "    flows = []\n",
    "    for i in range(0, len(video) - 1):\n",
    "        # calculate optical flow between each pair of frames\n",
    "        flow = cv2.calcOpticalFlowFarneback(gray_video[i], gray_video[i + 1], None, 0.5, 3, 15, 3, 5, 1.2,\n",
    "                                            cv2.OPTFLOW_FARNEBACK_GAUSSIAN)\n",
    "        # subtract the mean in order to eliminate the movement of camera\n",
    "        flow[..., 0] -= np.mean(flow[..., 0])\n",
    "        flow[..., 1] -= np.mean(flow[..., 1])\n",
    "        # normalize each component in optical flow\n",
    "        flow[..., 0] = cv2.normalize(flow[..., 0], None, 0, 255, cv2.NORM_MINMAX)\n",
    "        flow[..., 1] = cv2.normalize(flow[..., 1], None, 0, 255, cv2.NORM_MINMAX)\n",
    "        # Add into list\n",
    "        flows.append(flow)\n",
    "\n",
    "    # Padding the last frame as empty array\n",
    "    flows.append(np.zeros((224, 224, 2)))\n",
    "\n",
    "    return np.array(flows, dtype=np.float32)\n",
    "\n",
    "\n",
    "def Video2Npy(file_path, resize=(224,224)):\n",
    "    \"\"\"Load video and tansfer it into .npy format\n",
    "    Args:\n",
    "        file_path: the path of video file\n",
    "        resize: the target resolution of output video\n",
    "    Returns:\n",
    "        frames: gray-scale video\n",
    "        flows: magnitude video of optical flows\n",
    "    \"\"\"\n",
    "    # Load video\n",
    "    cap = cv2.VideoCapture(file_path)\n",
    "    # Get number of frames\n",
    "    len_frames = int(cap.get(7))\n",
    "    # Extract frames from video\n",
    "    try:\n",
    "        frames = []\n",
    "        for i in range(len_frames-1):\n",
    "            _, frame = cap.read()\n",
    "            frame = cv2.resize(frame,resize, interpolation=cv2.INTER_AREA)\n",
    "            frame = cv2.cvtColor(frame, cv2.COLOR_BGR2RGB)\n",
    "            frame = np.reshape(frame, (224,224,3))\n",
    "            frames.append(frame)\n",
    "    except:\n",
    "        print(\"Error: \", file_path, len_frames,i)\n",
    "    finally:\n",
    "        frames = np.array(frames)\n",
    "        cap.release()\n",
    "\n",
    "    # Get the optical flow of video\n",
    "    flows = getOpticalFlow(frames)\n",
    "    \n",
    "    # Visualize optical flow map\n",
    "    optical_flow_map = farneback_visual(flows)\n",
    "\n",
    "    result = np.zeros((len(flows),224,224,5))\n",
    "    result[...,:3] = frames\n",
    "    result[...,3:] = flows\n",
    "\n",
    "    return result\n",
    "\n",
    "def farneback_visual(flows):\n",
    "    # visualization farneback optical flow map\n",
    "    # save the map as 'farneback_optical_flow.mp4'\n",
    "    #인지\n",
    "    pass\n",
    "\n",
    "\n",
    "def Save2Npy(file_dir, save_dir):   # modify this code to save the npy files for your directory or path\n",
    "    \"\"\"Transfer all the videos and save them into specified directory\n",
    "    Args:\n",
    "        file_dir: source folder of target videos\n",
    "        save_dir: destination folder of output .npy files\n",
    "    \"\"\"\n",
    "    if not os.path.exists(save_dir):\n",
    "        os.makedirs(save_dir)\n",
    "    # List the files\n",
    "    videos = os.listdir(file_dir)\n",
    "    for v in tqdm(videos):\n",
    "        # Split video name\n",
    "        video_name = v.split('.')[0]\n",
    "        # Get src\n",
    "        video_path = os.path.join(file_dir, v)\n",
    "        # Get dest\n",
    "        save_path = os.path.join(save_dir, video_name+'.npy')\n",
    "        # Load and preprocess video\n",
    "        data = Video2Npy(file_path=video_path, resize=(224,224))\n",
    "        data = np.uint8(data)\n",
    "        # Save as .npy file\n",
    "        np.save(save_path, data)\n",
    "\n",
    "    return None"
   ]
  },
  {
   "cell_type": "markdown",
   "metadata": {},
   "source": [
    "### convert data and save it (offline)"
   ]
  },
  {
   "cell_type": "code",
   "execution_count": 2,
   "metadata": {},
   "outputs": [
    {
     "name": "stderr",
     "output_type": "stream",
     "text": [
      "100%|██████████| 80/80 [02:01<00:00,  1.52s/it]\n",
      "100%|██████████| 80/80 [01:55<00:00,  1.44s/it]\n",
      "100%|██████████| 20/20 [00:30<00:00,  1.51s/it]\n",
      "100%|██████████| 20/20 [00:29<00:00,  1.45s/it]\n",
      "100%|██████████| 10/10 [00:16<00:00,  1.64s/it]\n",
      "100%|██████████| 10/10 [00:13<00:00,  1.39s/it]\n"
     ]
    }
   ],
   "source": [
    "source_path = '/home/yungyeokim/computervision/raw_video'\n",
    "target_path = '/home/yungyeokim/computervision/npy_dataset'\n",
    "\n",
    "for f1 in ['train', 'val', 'test']:\n",
    "    for f2 in ['Fight', 'NonFight']:\n",
    "        path1 = os.path.join(source_path, f1, f2)\n",
    "        path2 = os.path.join(target_path, f1, f2)\n",
    "        Save2Npy(file_dir=path1, save_dir=path2)"
   ]
  },
  {
   "cell_type": "markdown",
   "metadata": {},
   "source": [
    "## **1. Build Data Loader**"
   ]
  },
  {
   "cell_type": "code",
   "execution_count": 1,
   "metadata": {},
   "outputs": [],
   "source": [
    "from multiprocessing import allow_connection_pickling\n",
    "import torch\n",
    "import torch.utils.data as data\n",
    "from torch.utils.data import DataLoader, Dataset\n",
    "import numpy as np\n",
    "import os\n",
    "import cv2\n",
    "\n",
    "class DataGenerator(Dataset):\n",
    "    \n",
    "    ### basic function templates for Dataset class in Pytorch : __init__, __len__, __getitem__###\n",
    "    def __init__(self, directory, data_augmentation=True, phase='train'):\n",
    "        self.phase=phase\n",
    "        self.directory = directory\n",
    "        self.data_aug = data_augmentation\n",
    "        self.X_path, self.Y_dict = self.search_data()\n",
    "        self.print_stats()\n",
    "\n",
    "    def __len__(self):\n",
    "        steps_per_epoch = int(len(self.X_path))\n",
    "        return steps_per_epoch\n",
    "\n",
    "    # get data and label corresponding to index using 'data_generation function'\n",
    "    def __getitem__(self, index):\n",
    "        data, label = self.data_generation(self.X_path[index])\n",
    "        return data.float(), label\n",
    "\n",
    "    #############################################################\n",
    "    # -----------------codes down from this line are provided.------------------- #\n",
    "    # call raw data using data path, and data processing including 'uniform sampling', 'color jittering', 'random flip', and 'normalize'\n",
    "    #############################################################\n",
    "    \n",
    "    def load_data(self, path):\n",
    "        data = np.load(path, mmap_mode='r') # Read the raw data from path \n",
    "        data = self.uniform_sampling(data, target_frames=64) # Randomly sample number of target frames\n",
    "        if self.data_aug: # If data is augmented...\n",
    "            data[..., :3] = self.color_jitter(data[..., :3]) \n",
    "            data = self.random_flip(data, prob=0.5) # Random flip image into random direction\n",
    "        data[..., :3] = self.normalize(data[..., :3]) # Normalize RGB\n",
    "        data[..., 3:] = self.normalize(data[..., 3:]) # Normalize optical flows\n",
    "        return data\n",
    "\n",
    "    # shuffle data\n",
    "    def on_epoch_end(self):\n",
    "        if self.shuffle:\n",
    "            np.random.shuffle(self.indexes)  \n",
    "\n",
    "    # Normalize data \n",
    "    def normalize(self, data):\n",
    "        mean = data.mean()\n",
    "        std = data.std()\n",
    "        return (data - mean) / std\n",
    "\n",
    "    def random_flip(self, video, prob):\n",
    "        s = np.random.rand()\n",
    "        if s < prob:\n",
    "            video = np.flip(video, (2,)) # Flip in width direction\n",
    "        return video\n",
    "\n",
    "    def uniform_sampling(self, video, target_frames=64):\n",
    "        # get total frames of input video and calculate sampling interval\n",
    "        len_frames = int(len(video))\n",
    "        interval = int(np.ceil(len_frames/target_frames))\n",
    "        # init empty list for sampled video and\n",
    "        sampled_video = []\n",
    "        for i in range(0,len_frames,interval):\n",
    "            sampled_video.append(video[i])\n",
    "        # calculate numer of padded frames and fix it\n",
    "        num_pad = target_frames - len(sampled_video) # num pad = # target frame - # current frame \n",
    "        padding = []\n",
    "        if num_pad>0:\n",
    "            for i in range(-num_pad,0):\n",
    "                try:\n",
    "                    padding.append(video[i]) # Fill with the last video frame\n",
    "                except:\n",
    "                    padding.append(video[0])\n",
    "            sampled_video += padding # Add padding results\n",
    "        # get sampled video\n",
    "        return np.array(sampled_video, dtype=np.float32)\n",
    "\n",
    "    # Jitter = spread values\n",
    "    def color_jitter(self, video):\n",
    "        s_jitter = np.random.uniform(-0.2, 0.2) \n",
    "        v_jitter = np.random.uniform(-30, 30)\n",
    "        for i in range(len(video)):\n",
    "            hsv = cv2.cvtColor(np.array(video[i]), cv2.COLOR_RGB2HSV) # Convert RGB -> HSV \n",
    "            s = hsv[..., 1] + s_jitter # saturation jitter\n",
    "            v = hsv[..., 2] + v_jitter # Value jitter\n",
    "            # Flip\n",
    "            s[s < 0] = 0\n",
    "            s[s > 1] = 1\n",
    "            v[v < 0] = 0\n",
    "            v[v > 255] = 255\n",
    "            hsv[..., 1] = s # set jittered saturation\n",
    "            hsv[..., 2] = v # Set jittered value\n",
    "            video[i] = torch.Tensor(cv2.cvtColor(hsv, cv2.COLOR_HSV2RGB)) # Convert HSV -> RGB again\n",
    "        return video\n",
    "\n",
    "    # print current state sof the Dataset class\n",
    "    def print_stats(self):\n",
    "            self.n_files = len(self.X_path)\n",
    "            self.n_classes = len(self.dirs)\n",
    "            self.indexes = np.arange(len(self.X_path))\n",
    "            np.random.shuffle(self.indexes)\n",
    "            print(\"Found {} files belonging to {} classes.\".format(self.n_files, self.n_classes))\n",
    "            for i, label in enumerate(self.dirs):\n",
    "                print('{:10s} : {}'.format(label, i))    \n",
    "                \n",
    "    #############################################################\n",
    "    # Fill the missing part of the code with functions given above\n",
    "    #############################################################\n",
    "    \n",
    "    # get data and label(one-hot encoded) from path list/dictionary\n",
    "    def search_data(self):\n",
    "        X_path = []\n",
    "        Y_dict = {}\n",
    "        self.dirs = sorted(os.listdir(self.directory)) # Get sorted file directories\n",
    "        one_hots = np.eye(len(self.dirs))  # One-hot encoded vector\n",
    "        for i, folder in enumerate(self.dirs):\n",
    "            folder_path = os.path.join(self.directory, folder)  # folder_path = ...train/Fight or ...train/NonFight\n",
    "            for file in os.listdir(folder_path):\n",
    "                # Add file path into X_path\n",
    "                # Assign one hot encoded vector into Y_dict\n",
    "                file_path = os.path.join(folder_path, file)\n",
    "                X_path.append(file_path)\n",
    "                #레이블 할당\n",
    "                Y_dict[file_path] = one_hots[i]\n",
    "                \n",
    "        return X_path, Y_dict\n",
    "    \n",
    "    # define batch x using 'load_data' function and batch_y from self.Y_dict.\n",
    "    def data_generation(self, batch_path):\n",
    "        batch_x = np.array(self.load_data(batch_path))\n",
    "        batch_y = np.array(self.Y_dict[batch_path])\n",
    "\n",
    "        # Transfer numpy array to tensor\n",
    "        batch_x = torch.from_numpy(batch_x)\n",
    "        batch_y = torch.from_numpy(batch_y).float()\n",
    "        \n",
    "        return batch_x, batch_y"
   ]
  },
  {
   "attachments": {
    "image.png": {
     "image/png": "[encoded data removed]"
    }
   },
   "cell_type": "markdown",
   "metadata": {},
   "source": [
    "## **2. Build Simple Model**\n",
    "- this model is 'Flow Gated Network' proposed in 'RWF2000'\n",
    "- you can use off-the-shelf architectures such as ResNet, EfficientNet, etc.\n",
    "- model structure is produced in below image\n",
    "- Fully-Connected layer is little bit different with image, so we provide Fully-Connected layer structure\n",
    "\n",
    "![image.png](attachment:image.png)"
   ]
  },
  {
   "cell_type": "code",
   "execution_count": 2,
   "metadata": {},
   "outputs": [],
   "source": [
    "import torch\n",
    "import torch.nn as nn\n",
    "import torch.nn.functional as F\n",
    "\n",
    "class FusionModel(nn.Module):\n",
    "    def __init__(self):\n",
    "        super(FusionModel, self).__init__()\n",
    "        self.relu=nn.ReLU(inplace=True)\n",
    "        self.sigmoid=nn.Sigmoid()\n",
    "        \n",
    "        ## Hint: Please refer to above table for constructing layers\n",
    "        # Construct block of RGB layers which takes RGB channel(3) as input\n",
    "        \n",
    "        ## RGB 데이터를 처리하는 레이어 블록 (입력 채널 수: 3)\n",
    "        self.rgb_conv1a = nn.Conv3d(3, 16, kernel_size=(1, 3, 3), stride=1, padding=(0, 1, 1))\n",
    "        self.rgb_conv1b = nn.Conv3d(16, 16, kernel_size=(3, 1, 1), stride=1, padding=(1, 0, 0))\n",
    "        self.rgb_pool1a = nn.MaxPool3d(kernel_size=(1, 2, 2), stride=(1, 2, 2))\n",
    "        \n",
    "        self.rgb_conv1c = nn.Conv3d(16, 16, kernel_size=(1, 3, 3), stride=1, padding=(0, 1, 1))\n",
    "        self.rgb_conv1d = nn.Conv3d(16, 16, kernel_size=(3, 1, 1), stride=1, padding=(1, 0, 0))\n",
    "        self.rgb_pool1b = nn.MaxPool3d(kernel_size=(1, 2, 2), stride=(1, 2, 2))\n",
    "        \n",
    "        self.rgb_conv2a = nn.Conv3d(16, 32, kernel_size=(1, 3, 3), stride=1, padding=(0, 1, 1))\n",
    "        self.rgb_conv2b = nn.Conv3d(32, 32, kernel_size=(3, 1, 1), stride=1, padding=(1, 0, 0))\n",
    "        self.rgb_pool2a = nn.MaxPool3d(kernel_size=(1, 2, 2), stride=(1, 2, 2))\n",
    "        \n",
    "        self.rgb_conv2c = nn.Conv3d(32, 32, kernel_size=(1, 3, 3), stride=1, padding=(0, 1, 1))\n",
    "        self.rgb_conv2d = nn.Conv3d(32, 32, kernel_size=(3, 1, 1), stride=1, padding=(1, 0, 0))\n",
    "        self.rgb_pool2b = nn.MaxPool3d(kernel_size=(1, 2, 2), stride=(1, 2, 2))        \n",
    "        \n",
    "        # Construct block of optical flow layers which takes the optical flow channel(2) as input\n",
    "        ## 옵티컬 플로우 데이터를 처리하는 레이어 블록 (입력 채널 수: 2)\n",
    "        self.opt_conv1a = nn.Conv3d(2, 16, kernel_size=(1, 3, 3), stride=1, padding=(0, 1, 1))\n",
    "        self.opt_conv1b = nn.Conv3d(16, 16, kernel_size=(3, 1, 1), stride=1, padding=(1, 0, 0))\n",
    "        self.opt_pool1a = nn.MaxPool3d(kernel_size=(1, 2, 2), stride=(1, 2, 2))\n",
    "        \n",
    "        self.opt_conv1c = nn.Conv3d(16, 16, kernel_size=(1, 3, 3), stride=1, padding=(0, 1, 1))\n",
    "        self.opt_conv1d = nn.Conv3d(16, 16, kernel_size=(3, 1, 1), stride=1, padding=(1, 0, 0))\n",
    "        self.opt_pool1b = nn.MaxPool3d(kernel_size=(1, 2, 2), stride=(1, 2, 2))\n",
    "        \n",
    "        self.opt_conv2a = nn.Conv3d(16, 32, kernel_size=(1, 3, 3), stride=1, padding=(0, 1, 1))\n",
    "        self.opt_conv2b = nn.Conv3d(32, 32, kernel_size=(3, 1, 1), stride=1, padding=(1, 0, 0))\n",
    "        self.opt_pool2a = nn.MaxPool3d(kernel_size=(1, 2, 2), stride=(1, 2, 2))\n",
    "        \n",
    "        self.opt_conv2c = nn.Conv3d(32, 32, kernel_size=(1, 3, 3), stride=1, padding=(0, 1, 1))\n",
    "        self.opt_conv2d = nn.Conv3d(32, 32, kernel_size=(3, 1, 1), stride=1, padding=(1, 0, 0))\n",
    "        self.opt_pool2b = nn.MaxPool3d(kernel_size=(1, 2, 2), stride=(1, 2, 2))\n",
    "        \n",
    "        ## Fusion and Pooling\n",
    "        self.fusion_pool = nn.MaxPool3d(kernel_size=(8, 1, 1), stride=(8, 1, 1))\n",
    "        \n",
    "        # Construct merging Block\n",
    "        self.merge_conv1a = nn.Conv3d(32, 64, kernel_size=(1, 3, 3), stride=1, padding=(0, 1, 1))\n",
    "        self.merge_conv1b = nn.Conv3d(64, 64, kernel_size=(3, 1, 1), stride=1, padding=(1, 0, 0))\n",
    "        self.merge_pool1a = nn.MaxPool3d(kernel_size=(2, 2, 2), stride=(2, 2, 2))\n",
    "        \n",
    "        self.merge_conv1c = nn.Conv3d(64, 64, kernel_size=(1, 3, 3), stride=1, padding=(0, 1, 1))\n",
    "        self.merge_conv1d = nn.Conv3d(64, 64, kernel_size=(3, 1, 1), stride=1, padding=(1, 0, 0))\n",
    "        self.merge_pool1b = nn.MaxPool3d(kernel_size=(2, 3, 3), stride=(2, 2, 2))\n",
    "        \n",
    "        self.merge_conv2a = nn.Conv3d(64, 128, kernel_size=(1, 3, 3), stride=1, padding=(0, 1, 1))\n",
    "        self.merge_conv2b = nn.Conv3d(128, 128, kernel_size=(3, 1, 1), stride=1, padding=(1, 0, 0))\n",
    "        self.merge_pool2a = nn.MaxPool3d(kernel_size=(2, 3, 3), stride=(2, 2, 2))\n",
    "        \n",
    "        # Fully Connected Layers\n",
    "        self.fc1 = nn.Linear(128, 128)\n",
    "        self.dropout = nn.Dropout(0.2)\n",
    "        self.fc2 = nn.Linear(128, 32)\n",
    "        self.fc3 = nn.Linear(32, 2)\n",
    "        \n",
    "        # Initialize weights\n",
    "        self.__init_weight()\n",
    "        \n",
    "    def forward(self, x):\n",
    "        x = x.transpose(2,4)\n",
    "        x = x.transpose(3,4)\n",
    "        x = x.transpose(1,2)\n",
    "        rgb = x[:,:3,:,:,:] # RGB 채널 추출\n",
    "        opt = x[:,3:5,:,:,:] # 옵티컬 플로우 채널 추출\n",
    "        \n",
    "        #print(\"x shape start trian : \",x.shape)\n",
    "\n",
    "        # Pass through the RGB data through the blocks of RGB layers\n",
    "        # RGB 데이터 처리\n",
    "        #print(\"start rgb shape : \",rgb.shape)\n",
    "        rgb = self.relu(self.rgb_conv1a(rgb))\n",
    "        #print(\"rgb shape : \",rgb.shape)\n",
    "        rgb = self.relu(self.rgb_conv1b(rgb))\n",
    "        #print(\"rgb shape : \",rgb.shape)\n",
    "        rgb = self.rgb_pool1a(rgb)\n",
    "        #print(\"rgb shape pooling: \",rgb.shape)\n",
    "        \n",
    "        rgb = self.relu(self.rgb_conv1c(rgb))\n",
    "        #print(\"rgb shape : \",rgb.shape)\n",
    "        rgb = self.relu(self.rgb_conv1d(rgb))\n",
    "        #print(\"rgb shape : \",rgb.shape)\n",
    "        rgb = self.rgb_pool1b(rgb)\n",
    "        #print(\"rgb shape pooling: \",rgb.shape)\n",
    "        \n",
    "        rgb = self.relu(self.rgb_conv2a(rgb))\n",
    "        rgb = self.relu(self.rgb_conv2b(rgb))\n",
    "        rgb = self.rgb_pool2a(rgb)\n",
    "        \n",
    "        rgb = self.relu(self.rgb_conv2c(rgb))\n",
    "        rgb = self.relu(self.rgb_conv2d(rgb))\n",
    "        rgb = self.rgb_pool2b(rgb)\n",
    "        \n",
    "        #print(\"rgb shape : \",rgb.shape)\n",
    "        \n",
    "        # Pass through the optical flow data through the blocks of RGB layers\n",
    "        # 옵티컬 플로우 데이터 처리\n",
    "        opt = self.relu(self.opt_conv1a(opt))\n",
    "        opt = self.relu(self.opt_conv1b(opt))\n",
    "        opt = self.opt_pool1a(opt)\n",
    "        \n",
    "        opt = self.relu(self.opt_conv1c(opt))\n",
    "        opt = self.relu(self.opt_conv1d(opt))\n",
    "        opt = self.opt_pool1b(opt)\n",
    "        \n",
    "        opt = self.relu(self.opt_conv2a(opt))\n",
    "        opt = self.relu(self.opt_conv2b(opt))\n",
    "        opt = self.opt_pool2a(opt)\n",
    "        \n",
    "        opt = self.sigmoid(self.opt_conv2c(opt))\n",
    "        opt = self.sigmoid(self.opt_conv2d(opt))\n",
    "        opt = self.opt_pool2b(opt)\n",
    "        \n",
    "        #print(\"opt shape : \",opt.shape)\n",
    "                \n",
    "        # Fuse by performing elementwise multiplication of rgb and opt tensors. \n",
    "        fused = rgb * opt\n",
    "        \n",
    "        #print(\"fused shape : \",fused.shape)\n",
    "        # Perform maxpooling of fused\n",
    "        fused = self.fusion_pool(fused)\n",
    "        \n",
    "        #print(\"fused shape : \",fused.shape)\n",
    "        \n",
    "        # Pass through the fused data into merging block \n",
    "        merged = self.relu(self.merge_conv1a(fused))\n",
    "        #print(\"merged shape 1.1 : \",merged.shape)\n",
    "        merged = self.relu(self.merge_conv1b(merged))\n",
    "        #print(\"merged shape 1.2 : \",merged.shape)\n",
    "        merged = self.merge_pool1a(merged)\n",
    "        #print(\"merged shape 1.3 : \",merged.shape)\n",
    "        \n",
    "        merged = self.relu(self.merge_conv1c(merged))\n",
    "        #print(\"merged shape 2.1 : \",merged.shape)\n",
    "        merged = self.relu(self.merge_conv1d(merged))\n",
    "        #print(\"merged shape 2.2 : \",merged.shape)\n",
    "        merged = self.merge_pool1b(merged)\n",
    "        #print(\"merged shape 2.3 : \",merged.shape)\n",
    "                \n",
    "        merged = self.relu(self.merge_conv2a(merged))\n",
    "        #print(\"merged shape 3.1 : \",merged.shape)\n",
    "        merged = self.relu(self.merge_conv2b(merged))\n",
    "        #print(\"merged shape 3.2 : \",merged.shape)\n",
    "        merged = self.merge_pool2a(merged)\n",
    "        #print(\"merged shape 3.3 : \",merged.shape)\n",
    "        \n",
    "        # Fully Connected Layers\n",
    "        x = merged.view(merged.size(0), -1)\n",
    "        x = self.fc1(x)\n",
    "        x = self.relu(x)\n",
    "        x = self.dropout(x)\n",
    "        x = self.fc2(x)\n",
    "        x = self.relu(x)\n",
    "        x = self.fc3(x)\n",
    "        \n",
    "        #print(\"result x shape : \",x.shape)\n",
    "        \n",
    "        return x\n",
    "    \n",
    "    def __init_weight(self):\n",
    "        for m in self.modules():\n",
    "            if isinstance(m, nn.Conv3d):\n",
    "                nn.init.kaiming_normal_(m.weight, mode='fan_out', nonlinearity='relu')\n",
    "                \n",
    "                '''\n",
    "                if m.bias is not None:\n",
    "                    nn.init.constant_(m.bias, 0)\n",
    "            elif isinstance(m, nn.Linear):\n",
    "                nn.init.normal_(m.weight, 0, 0.01)\n",
    "                nn.init.constant_(m.bias, 0)\n",
    "                '''\n",
    "\n",
    "\n",
    "        '''\n",
    "        for m in self.modules():\n",
    "            if isinstance(m, nn.Conv3d):\n",
    "                # Perform weight initialization (\"kaiming normal\")\n",
    "        '''"
   ]
  },
  {
   "cell_type": "markdown",
   "metadata": {},
   "source": [
    "## **3. Training the Model**\n",
    "- set hyper-parameters for training"
   ]
  },
  {
   "cell_type": "code",
   "execution_count": 6,
   "metadata": {},
   "outputs": [
    {
     "name": "stdout",
     "output_type": "stream",
     "text": [
      "Requirement already satisfied: wandb in /home/yungyeokim/miniconda3/envs/computercv/lib/python3.11/site-packages (0.19.0)\n",
      "Requirement already satisfied: click!=8.0.0,>=7.1 in /home/yungyeokim/miniconda3/envs/computercv/lib/python3.11/site-packages (from wandb) (8.1.7)\n",
      "Requirement already satisfied: docker-pycreds>=0.4.0 in /home/yungyeokim/miniconda3/envs/computercv/lib/python3.11/site-packages (from wandb) (0.4.0)\n",
      "Requirement already satisfied: gitpython!=3.1.29,>=1.0.0 in /home/yungyeokim/miniconda3/envs/computercv/lib/python3.11/site-packages (from wandb) (3.1.43)\n",
      "Requirement already satisfied: platformdirs in /home/yungyeokim/miniconda3/envs/computercv/lib/python3.11/site-packages (from wandb) (3.10.0)\n",
      "Requirement already satisfied: protobuf!=4.21.0,!=5.28.0,<6,>=3.19.0 in /home/yungyeokim/miniconda3/envs/computercv/lib/python3.11/site-packages (from wandb) (5.29.1)\n",
      "Requirement already satisfied: psutil>=5.0.0 in /home/yungyeokim/miniconda3/envs/computercv/lib/python3.11/site-packages (from wandb) (5.9.0)\n",
      "Requirement already satisfied: pydantic<3,>=2.6 in /home/yungyeokim/miniconda3/envs/computercv/lib/python3.11/site-packages (from wandb) (2.10.3)\n",
      "Requirement already satisfied: pyyaml in /home/yungyeokim/miniconda3/envs/computercv/lib/python3.11/site-packages (from wandb) (6.0.2)\n",
      "Requirement already satisfied: requests<3,>=2.0.0 in /home/yungyeokim/miniconda3/envs/computercv/lib/python3.11/site-packages (from wandb) (2.32.3)\n",
      "Requirement already satisfied: sentry-sdk>=2.0.0 in /home/yungyeokim/miniconda3/envs/computercv/lib/python3.11/site-packages (from wandb) (2.19.1)\n",
      "Requirement already satisfied: setproctitle in /home/yungyeokim/miniconda3/envs/computercv/lib/python3.11/site-packages (from wandb) (1.3.4)\n",
      "Requirement already satisfied: setuptools in /home/yungyeokim/miniconda3/envs/computercv/lib/python3.11/site-packages (from wandb) (72.1.0)\n",
      "Requirement already satisfied: typing-extensions<5,>=4.4 in /home/yungyeokim/miniconda3/envs/computercv/lib/python3.11/site-packages (from wandb) (4.12.2)\n",
      "Requirement already satisfied: six>=1.4.0 in /home/yungyeokim/miniconda3/envs/computercv/lib/python3.11/site-packages (from docker-pycreds>=0.4.0->wandb) (1.16.0)\n",
      "Requirement already satisfied: gitdb<5,>=4.0.1 in /home/yungyeokim/miniconda3/envs/computercv/lib/python3.11/site-packages (from gitpython!=3.1.29,>=1.0.0->wandb) (4.0.11)\n",
      "Requirement already satisfied: annotated-types>=0.6.0 in /home/yungyeokim/miniconda3/envs/computercv/lib/python3.11/site-packages (from pydantic<3,>=2.6->wandb) (0.7.0)\n",
      "Requirement already satisfied: pydantic-core==2.27.1 in /home/yungyeokim/miniconda3/envs/computercv/lib/python3.11/site-packages (from pydantic<3,>=2.6->wandb) (2.27.1)\n",
      "Requirement already satisfied: charset-normalizer<4,>=2 in /home/yungyeokim/miniconda3/envs/computercv/lib/python3.11/site-packages (from requests<3,>=2.0.0->wandb) (3.3.2)\n",
      "Requirement already satisfied: idna<4,>=2.5 in /home/yungyeokim/miniconda3/envs/computercv/lib/python3.11/site-packages (from requests<3,>=2.0.0->wandb) (3.7)\n",
      "Requirement already satisfied: urllib3<3,>=1.21.1 in /home/yungyeokim/miniconda3/envs/computercv/lib/python3.11/site-packages (from requests<3,>=2.0.0->wandb) (2.2.3)\n",
      "Requirement already satisfied: certifi>=2017.4.17 in /home/yungyeokim/miniconda3/envs/computercv/lib/python3.11/site-packages (from requests<3,>=2.0.0->wandb) (2024.8.30)\n",
      "Requirement already satisfied: smmap<6,>=3.0.1 in /home/yungyeokim/miniconda3/envs/computercv/lib/python3.11/site-packages (from gitdb<5,>=4.0.1->gitpython!=3.1.29,>=1.0.0->wandb) (5.0.1)\n"
     ]
    }
   ],
   "source": [
    "!pip install wandb"
   ]
  },
  {
   "cell_type": "code",
   "execution_count": 3,
   "metadata": {},
   "outputs": [
    {
     "name": "stdout",
     "output_type": "stream",
     "text": [
      "Found 160 files belonging to 2 classes.\n",
      "Fight      : 0\n",
      "NonFight   : 1\n",
      "Found 40 files belonging to 2 classes.\n",
      "Fight      : 0\n",
      "NonFight   : 1\n"
     ]
    }
   ],
   "source": [
    "import torch.optim as optim\n",
    "from torch.optim.lr_scheduler import StepLR\n",
    "from torch.utils.data import DataLoader, Dataset\n",
    "import torch.nn as nn\n",
    "from tqdm import tqdm\n",
    "import wandb\n",
    "\n",
    "\n",
    "device = torch.device('cuda' if torch.cuda.is_available() else 'cpu')\n",
    "\n",
    "# define model, optimizer and criterion\n",
    "model = FusionModel().to(device)\n",
    "#optimizer = optim.SGD(model.parameters(), lr=0.003, momentum=0.9, weight_decay=1e-6, nesterov=True)\n",
    "optimizer = optim.Adam(model.parameters(), lr=0.0002, betas=(0.9, 0.999), weight_decay=0, eps=1e-8)\n",
    "loss_fn = nn.CrossEntropyLoss().to(device)\n",
    "\n",
    "trainset_path = '/home/yungyeokim/computervision/npy_dataset/train'\n",
    "validation_path = '/home/yungyeokim/computervision/npy_dataset/val'\n",
    "\n",
    "# define dataset and dataloader\n",
    "train_dataset = DataGenerator(directory=trainset_path, data_augmentation=True)\n",
    "val_dataset = DataGenerator(directory=validation_path, data_augmentation=True)\n",
    "train_loader = DataLoader(train_dataset, batch_size=4, shuffle=True, num_workers=0)\n",
    "val_loader = DataLoader(val_dataset, batch_size=4, shuffle=True, num_workers=0)\n",
    "\n",
    "# epoch = 30\n",
    "# learning rate = 0.003\n",
    "\n",
    "# optimizer = SGD\n",
    "# weight decay = 1e-6\n",
    "# momentum = 0.9\n",
    "# nesterov = True\n",
    "# gamma = 0.7\n",
    "\n",
    "# loss = CrossEntropy\n",
    "\n",
    "# assign device cpu or gpu\n",
    "min_loss = np.inf\n",
    "        "
   ]
  },
  {
   "cell_type": "code",
   "execution_count": null,
   "metadata": {},
   "outputs": [],
   "source": [
    "def _train():\n",
    "    \n",
    "    model.train()\n",
    "    acc_temp = 0\n",
    "    running_loss = 0\n",
    "    \n",
    "    # forward propagation and backpropagation\n",
    "    # calculate accuracy and loss on training set\n",
    "    for data, label in tqdm(train_loader):\n",
    "        \n",
    "        data = data.to(device)\n",
    "        label = label.to(device)\n",
    "\n",
    "        optimizer.zero_grad()\n",
    "        outputs = model(data)\n",
    "\n",
    "        #print(\"outputs\", outputs)\n",
    "        #print(\"label\", label)\n",
    "        #print(\"max(label, 1)\", torch.max(label, 1))\n",
    "        #print(\"max(label, 1)[1]\", torch.max(label, 1)[1])\n",
    "    \n",
    "\n",
    "        loss = loss_fn(outputs, torch.max(label, 1)[1])  # 원-핫 레이블을 클래스 인덱스로 변환\n",
    "        \n",
    "        loss.backward()\n",
    "        optimizer.step()\n",
    "\n",
    "        running_loss += loss.item() * data.size(0)\n",
    "        preds = torch.argmax(outputs, dim=1)\n",
    "        #print(\"preds\", preds)\n",
    "        acc_temp += torch.sum(preds == torch.max(label, 1)[1])\n",
    "        #print(\"acc_temp\", acc_temp)\n",
    "        #print('_______________________________________')\n",
    "    \n",
    "    train_acc = acc_temp / len(train_loader.dataset)\n",
    "    train_loss = running_loss / len(train_loader.dataset)\n",
    "\n",
    "    return train_acc, train_loss"
   ]
  },
  {
   "cell_type": "code",
   "execution_count": 5,
   "metadata": {},
   "outputs": [],
   "source": [
    "def _val():\n",
    "    model.eval()\n",
    "    with torch.no_grad():\n",
    "        running_loss_val = 0\n",
    "        acc_temp_val =0\n",
    "\n",
    "        # calculate accuracy and loss on validation set\n",
    "        for data, label in tqdm(val_loader):\n",
    "            data = data.to(device)\n",
    "            label = label.to(device)\n",
    "\n",
    "            outputs = model(data)\n",
    "            \n",
    "            # Debugging Outputs\n",
    "            #print(\"Output Shape: \", outputs.shape)\n",
    "            #print(\"Label Shape: \", label.shape)\n",
    "            #print(\"Output: \", outputs)\n",
    "            \n",
    "            \n",
    "            loss = loss_fn(outputs, torch.max(label, 1)[1])\n",
    "\n",
    "            running_loss_val += loss.item() * data.size(0)\n",
    "            preds = torch.argmax(outputs, dim=1)\n",
    "            acc_temp_val += torch.sum(preds == torch.max(label, 1)[1])\n",
    "        \n",
    "    val_acc = acc_temp_val / len(val_loader.dataset)\n",
    "    val_loss = running_loss_val / len(val_loader.dataset)\n",
    "\n",
    "    return val_acc.item(), val_loss"
   ]
  },
  {
   "cell_type": "code",
   "execution_count": null,
   "metadata": {},
   "outputs": [],
   "source": []
  },
  {
   "cell_type": "code",
   "execution_count": 6,
   "metadata": {},
   "outputs": [
    {
     "name": "stderr",
     "output_type": "stream",
     "text": [
      "\u001b[34m\u001b[1mwandb\u001b[0m: Using wandb-core as the SDK backend.  Please refer to https://wandb.me/wandb-core for more information.\n"
     ]
    },
    {
     "name": "stdout",
     "output_type": "stream",
     "text": [
      "gpu device is using\n"
     ]
    },
    {
     "name": "stderr",
     "output_type": "stream",
     "text": [
      "\u001b[34m\u001b[1mwandb\u001b[0m: Currently logged in as: \u001b[33msaangho\u001b[0m (\u001b[33msaangho-hanyang-university\u001b[0m). Use \u001b[1m`wandb login --relogin`\u001b[0m to force relogin\n"
     ]
    },
    {
     "data": {
      "text/html": [
       "Tracking run with wandb version 0.19.0"
      ],
      "text/plain": [
       "<IPython.core.display.HTML object>"
      ]
     },
     "metadata": {},
     "output_type": "display_data"
    },
    {
     "data": {
      "text/html": [
       "Run data is saved locally in <code>/home/yungyeokim/computervision/wandb/run-20241212_015541-169hw6px</code>"
      ],
      "text/plain": [
       "<IPython.core.display.HTML object>"
      ]
     },
     "metadata": {},
     "output_type": "display_data"
    },
    {
     "data": {
      "text/html": [
       "Syncing run <strong><a href='https://wandb.ai/saangho-hanyang-university/CV/runs/169hw6px' target=\"_blank\">Adam(lr=0.0002)</a></strong> to <a href='https://wandb.ai/saangho-hanyang-university/CV' target=\"_blank\">Weights & Biases</a> (<a href='https://wandb.me/developer-guide' target=\"_blank\">docs</a>)<br/>"
      ],
      "text/plain": [
       "<IPython.core.display.HTML object>"
      ]
     },
     "metadata": {},
     "output_type": "display_data"
    },
    {
     "data": {
      "text/html": [
       " View project at <a href='https://wandb.ai/saangho-hanyang-university/CV' target=\"_blank\">https://wandb.ai/saangho-hanyang-university/CV</a>"
      ],
      "text/plain": [
       "<IPython.core.display.HTML object>"
      ]
     },
     "metadata": {},
     "output_type": "display_data"
    },
    {
     "data": {
      "text/html": [
       " View run at <a href='https://wandb.ai/saangho-hanyang-university/CV/runs/169hw6px' target=\"_blank\">https://wandb.ai/saangho-hanyang-university/CV/runs/169hw6px</a>"
      ],
      "text/plain": [
       "<IPython.core.display.HTML object>"
      ]
     },
     "metadata": {},
     "output_type": "display_data"
    },
    {
     "name": "stdout",
     "output_type": "stream",
     "text": [
      "Epoch 1/50\n"
     ]
    },
    {
     "name": "stderr",
     "output_type": "stream",
     "text": [
      "  0%|          | 0/40 [00:00<?, ?it/s]/tmp/ipykernel_2129873/3353067960.py:96: DeprecationWarning: __array__ implementation doesn't accept a copy keyword, so passing copy=False failed. __array__ must implement 'dtype' and 'copy' keyword arguments.\n",
      "  video[i] = torch.Tensor(cv2.cvtColor(hsv, cv2.COLOR_HSV2RGB)) # Convert HSV -> RGB again\n",
      "100%|██████████| 40/40 [00:40<00:00,  1.01s/it]\n",
      "100%|██████████| 10/10 [00:08<00:00,  1.16it/s]\n"
     ]
    },
    {
     "name": "stdout",
     "output_type": "stream",
     "text": [
      "Validation loss decreased, model saved as best_model_epoch_1.pth\n",
      "Train Loss: 0.6955, Train Acc: 0.5000\n",
      "Val Loss: 0.6929, Val Acc: 0.5000\n",
      "Epoch 2/50\n"
     ]
    },
    {
     "name": "stderr",
     "output_type": "stream",
     "text": [
      "100%|██████████| 40/40 [00:39<00:00,  1.00it/s]\n",
      "100%|██████████| 10/10 [00:08<00:00,  1.17it/s]\n"
     ]
    },
    {
     "name": "stdout",
     "output_type": "stream",
     "text": [
      "Validation loss decreased, model saved as best_model_epoch_2.pth\n",
      "Train Loss: 0.6946, Train Acc: 0.4813\n",
      "Val Loss: 0.6926, Val Acc: 0.5000\n",
      "Epoch 3/50\n"
     ]
    },
    {
     "name": "stderr",
     "output_type": "stream",
     "text": [
      "100%|██████████| 40/40 [00:39<00:00,  1.00it/s]\n",
      "100%|██████████| 10/10 [00:08<00:00,  1.17it/s]\n"
     ]
    },
    {
     "name": "stdout",
     "output_type": "stream",
     "text": [
      "Validation loss decreased, model saved as best_model_epoch_3.pth\n",
      "Train Loss: 0.6931, Train Acc: 0.4938\n",
      "Val Loss: 0.6922, Val Acc: 0.5000\n",
      "Epoch 4/50\n"
     ]
    },
    {
     "name": "stderr",
     "output_type": "stream",
     "text": [
      "100%|██████████| 40/40 [00:39<00:00,  1.01it/s]\n",
      "100%|██████████| 10/10 [00:08<00:00,  1.17it/s]\n"
     ]
    },
    {
     "name": "stdout",
     "output_type": "stream",
     "text": [
      "Validation loss decreased, model saved as best_model_epoch_4.pth\n",
      "Train Loss: 0.6930, Train Acc: 0.5000\n",
      "Val Loss: 0.6902, Val Acc: 0.5000\n",
      "Epoch 5/50\n"
     ]
    },
    {
     "name": "stderr",
     "output_type": "stream",
     "text": [
      "100%|██████████| 40/40 [00:39<00:00,  1.00it/s]\n",
      "100%|██████████| 10/10 [00:08<00:00,  1.16it/s]\n"
     ]
    },
    {
     "name": "stdout",
     "output_type": "stream",
     "text": [
      "Train Loss: 0.6958, Train Acc: 0.4750\n",
      "Val Loss: 0.6916, Val Acc: 0.5000\n",
      "Epoch 6/50\n"
     ]
    },
    {
     "name": "stderr",
     "output_type": "stream",
     "text": [
      "100%|██████████| 40/40 [00:39<00:00,  1.00it/s]\n",
      "100%|██████████| 10/10 [00:08<00:00,  1.16it/s]\n"
     ]
    },
    {
     "name": "stdout",
     "output_type": "stream",
     "text": [
      "Validation loss decreased, model saved as best_model_epoch_6.pth\n",
      "Train Loss: 0.6915, Train Acc: 0.5000\n",
      "Val Loss: 0.6882, Val Acc: 0.5000\n",
      "Epoch 7/50\n"
     ]
    },
    {
     "name": "stderr",
     "output_type": "stream",
     "text": [
      "100%|██████████| 40/40 [00:39<00:00,  1.01it/s]\n",
      "100%|██████████| 10/10 [00:08<00:00,  1.16it/s]\n"
     ]
    },
    {
     "name": "stdout",
     "output_type": "stream",
     "text": [
      "Validation loss decreased, model saved as best_model_epoch_7.pth\n",
      "Train Loss: 0.6875, Train Acc: 0.5563\n",
      "Val Loss: 0.6791, Val Acc: 0.7250\n",
      "Epoch 8/50\n"
     ]
    },
    {
     "name": "stderr",
     "output_type": "stream",
     "text": [
      "100%|██████████| 40/40 [00:39<00:00,  1.00it/s]\n",
      "100%|██████████| 10/10 [00:08<00:00,  1.18it/s]\n"
     ]
    },
    {
     "name": "stdout",
     "output_type": "stream",
     "text": [
      "Validation loss decreased, model saved as best_model_epoch_8.pth\n",
      "Train Loss: 0.6638, Train Acc: 0.6438\n",
      "Val Loss: 0.6302, Val Acc: 0.7250\n",
      "Epoch 9/50\n"
     ]
    },
    {
     "name": "stderr",
     "output_type": "stream",
     "text": [
      "100%|██████████| 40/40 [00:39<00:00,  1.01it/s]\n",
      "100%|██████████| 10/10 [00:08<00:00,  1.17it/s]\n"
     ]
    },
    {
     "name": "stdout",
     "output_type": "stream",
     "text": [
      "Validation loss decreased, model saved as best_model_epoch_9.pth\n",
      "Train Loss: 0.6165, Train Acc: 0.7125\n",
      "Val Loss: 0.5801, Val Acc: 0.7000\n",
      "Epoch 10/50\n"
     ]
    },
    {
     "name": "stderr",
     "output_type": "stream",
     "text": [
      "100%|██████████| 40/40 [00:39<00:00,  1.01it/s]\n",
      "100%|██████████| 10/10 [00:08<00:00,  1.17it/s]\n"
     ]
    },
    {
     "name": "stdout",
     "output_type": "stream",
     "text": [
      "Validation loss decreased, model saved as best_model_epoch_10.pth\n",
      "Train Loss: 0.6054, Train Acc: 0.7312\n",
      "Val Loss: 0.5553, Val Acc: 0.7000\n",
      "Epoch 11/50\n"
     ]
    },
    {
     "name": "stderr",
     "output_type": "stream",
     "text": [
      "100%|██████████| 40/40 [00:39<00:00,  1.00it/s]\n",
      "100%|██████████| 10/10 [00:08<00:00,  1.16it/s]\n"
     ]
    },
    {
     "name": "stdout",
     "output_type": "stream",
     "text": [
      "Validation loss decreased, model saved as best_model_epoch_11.pth\n",
      "Train Loss: 0.5224, Train Acc: 0.7937\n",
      "Val Loss: 0.4733, Val Acc: 0.8250\n",
      "Epoch 12/50\n"
     ]
    },
    {
     "name": "stderr",
     "output_type": "stream",
     "text": [
      "100%|██████████| 40/40 [00:39<00:00,  1.00it/s]\n",
      "100%|██████████| 10/10 [00:08<00:00,  1.16it/s]\n"
     ]
    },
    {
     "name": "stdout",
     "output_type": "stream",
     "text": [
      "Train Loss: 0.5369, Train Acc: 0.7250\n",
      "Val Loss: 0.4843, Val Acc: 0.7750\n",
      "Epoch 13/50\n"
     ]
    },
    {
     "name": "stderr",
     "output_type": "stream",
     "text": [
      "100%|██████████| 40/40 [00:39<00:00,  1.00it/s]\n",
      "100%|██████████| 10/10 [00:08<00:00,  1.18it/s]\n"
     ]
    },
    {
     "name": "stdout",
     "output_type": "stream",
     "text": [
      "Validation loss decreased, model saved as best_model_epoch_13.pth\n",
      "Train Loss: 0.5070, Train Acc: 0.7688\n",
      "Val Loss: 0.3950, Val Acc: 0.8500\n",
      "Epoch 14/50\n"
     ]
    },
    {
     "name": "stderr",
     "output_type": "stream",
     "text": [
      "100%|██████████| 40/40 [00:39<00:00,  1.00it/s]\n",
      "100%|██████████| 10/10 [00:08<00:00,  1.16it/s]\n"
     ]
    },
    {
     "name": "stdout",
     "output_type": "stream",
     "text": [
      "Train Loss: 0.4457, Train Acc: 0.8000\n",
      "Val Loss: 0.5755, Val Acc: 0.7250\n",
      "Epoch 15/50\n"
     ]
    },
    {
     "name": "stderr",
     "output_type": "stream",
     "text": [
      "100%|██████████| 40/40 [00:39<00:00,  1.00it/s]\n",
      "100%|██████████| 10/10 [00:08<00:00,  1.17it/s]\n"
     ]
    },
    {
     "name": "stdout",
     "output_type": "stream",
     "text": [
      "Validation loss decreased, model saved as best_model_epoch_15.pth\n",
      "Train Loss: 0.5055, Train Acc: 0.7500\n",
      "Val Loss: 0.3916, Val Acc: 0.8750\n",
      "Epoch 16/50\n"
     ]
    },
    {
     "name": "stderr",
     "output_type": "stream",
     "text": [
      "100%|██████████| 40/40 [00:39<00:00,  1.00it/s]\n",
      "100%|██████████| 10/10 [00:08<00:00,  1.16it/s]\n"
     ]
    },
    {
     "name": "stdout",
     "output_type": "stream",
     "text": [
      "Train Loss: 0.4525, Train Acc: 0.8188\n",
      "Val Loss: 0.4502, Val Acc: 0.8000\n",
      "Epoch 17/50\n"
     ]
    },
    {
     "name": "stderr",
     "output_type": "stream",
     "text": [
      "100%|██████████| 40/40 [00:39<00:00,  1.01it/s]\n",
      "100%|██████████| 10/10 [00:08<00:00,  1.17it/s]\n"
     ]
    },
    {
     "name": "stdout",
     "output_type": "stream",
     "text": [
      "Train Loss: 0.4420, Train Acc: 0.7937\n",
      "Val Loss: 0.4598, Val Acc: 0.7750\n",
      "Epoch 18/50\n"
     ]
    },
    {
     "name": "stderr",
     "output_type": "stream",
     "text": [
      "100%|██████████| 40/40 [00:39<00:00,  1.00it/s]\n",
      "100%|██████████| 10/10 [00:08<00:00,  1.17it/s]\n"
     ]
    },
    {
     "name": "stdout",
     "output_type": "stream",
     "text": [
      "Train Loss: 0.4064, Train Acc: 0.8250\n",
      "Val Loss: 0.5217, Val Acc: 0.7750\n",
      "Epoch 19/50\n"
     ]
    },
    {
     "name": "stderr",
     "output_type": "stream",
     "text": [
      "100%|██████████| 40/40 [00:39<00:00,  1.01it/s]\n",
      "100%|██████████| 10/10 [00:08<00:00,  1.16it/s]\n"
     ]
    },
    {
     "name": "stdout",
     "output_type": "stream",
     "text": [
      "Train Loss: 0.4193, Train Acc: 0.7937\n",
      "Val Loss: 0.4282, Val Acc: 0.8250\n",
      "Epoch 20/50\n"
     ]
    },
    {
     "name": "stderr",
     "output_type": "stream",
     "text": [
      "100%|██████████| 40/40 [00:39<00:00,  1.00it/s]\n",
      "100%|██████████| 10/10 [00:08<00:00,  1.17it/s]\n"
     ]
    },
    {
     "name": "stdout",
     "output_type": "stream",
     "text": [
      "Train Loss: 0.3965, Train Acc: 0.8562\n",
      "Val Loss: 0.4785, Val Acc: 0.7750\n",
      "Epoch 21/50\n"
     ]
    },
    {
     "name": "stderr",
     "output_type": "stream",
     "text": [
      "100%|██████████| 40/40 [00:39<00:00,  1.00it/s]\n",
      "100%|██████████| 10/10 [00:08<00:00,  1.17it/s]\n"
     ]
    },
    {
     "name": "stdout",
     "output_type": "stream",
     "text": [
      "Train Loss: 0.3886, Train Acc: 0.8375\n",
      "Val Loss: 0.4267, Val Acc: 0.8250\n",
      "Epoch 22/50\n"
     ]
    },
    {
     "name": "stderr",
     "output_type": "stream",
     "text": [
      "100%|██████████| 40/40 [00:39<00:00,  1.00it/s]\n",
      "100%|██████████| 10/10 [00:08<00:00,  1.17it/s]\n"
     ]
    },
    {
     "name": "stdout",
     "output_type": "stream",
     "text": [
      "Train Loss: 0.3255, Train Acc: 0.8625\n",
      "Val Loss: 0.4708, Val Acc: 0.7500\n",
      "Epoch 23/50\n"
     ]
    },
    {
     "name": "stderr",
     "output_type": "stream",
     "text": [
      "100%|██████████| 40/40 [00:39<00:00,  1.00it/s]\n",
      "100%|██████████| 10/10 [00:08<00:00,  1.17it/s]\n"
     ]
    },
    {
     "name": "stdout",
     "output_type": "stream",
     "text": [
      "Validation loss decreased, model saved as best_model_epoch_23.pth\n",
      "Train Loss: 0.3280, Train Acc: 0.8750\n",
      "Val Loss: 0.3836, Val Acc: 0.8500\n",
      "Epoch 24/50\n"
     ]
    },
    {
     "name": "stderr",
     "output_type": "stream",
     "text": [
      "100%|██████████| 40/40 [00:39<00:00,  1.00it/s]\n",
      "100%|██████████| 10/10 [00:08<00:00,  1.17it/s]\n"
     ]
    },
    {
     "name": "stdout",
     "output_type": "stream",
     "text": [
      "Validation loss decreased, model saved as best_model_epoch_24.pth\n",
      "Train Loss: 0.2773, Train Acc: 0.8625\n",
      "Val Loss: 0.3183, Val Acc: 0.8500\n",
      "Epoch 25/50\n"
     ]
    },
    {
     "name": "stderr",
     "output_type": "stream",
     "text": [
      "100%|██████████| 40/40 [00:39<00:00,  1.01it/s]\n",
      "100%|██████████| 10/10 [00:08<00:00,  1.17it/s]\n"
     ]
    },
    {
     "name": "stdout",
     "output_type": "stream",
     "text": [
      "Train Loss: 0.2520, Train Acc: 0.8813\n",
      "Val Loss: 0.5775, Val Acc: 0.7500\n",
      "Epoch 26/50\n"
     ]
    },
    {
     "name": "stderr",
     "output_type": "stream",
     "text": [
      "100%|██████████| 40/40 [00:39<00:00,  1.00it/s]\n",
      "100%|██████████| 10/10 [00:08<00:00,  1.15it/s]\n"
     ]
    },
    {
     "name": "stdout",
     "output_type": "stream",
     "text": [
      "Train Loss: 0.2474, Train Acc: 0.9062\n",
      "Val Loss: 0.3473, Val Acc: 0.8500\n",
      "Epoch 27/50\n"
     ]
    },
    {
     "name": "stderr",
     "output_type": "stream",
     "text": [
      "100%|██████████| 40/40 [00:39<00:00,  1.01it/s]\n",
      "100%|██████████| 10/10 [00:08<00:00,  1.15it/s]\n"
     ]
    },
    {
     "name": "stdout",
     "output_type": "stream",
     "text": [
      "Train Loss: 0.2105, Train Acc: 0.9187\n",
      "Val Loss: 0.4619, Val Acc: 0.8250\n",
      "Epoch 28/50\n"
     ]
    },
    {
     "name": "stderr",
     "output_type": "stream",
     "text": [
      "100%|██████████| 40/40 [00:40<00:00,  1.00s/it]\n",
      "100%|██████████| 10/10 [00:08<00:00,  1.15it/s]\n"
     ]
    },
    {
     "name": "stdout",
     "output_type": "stream",
     "text": [
      "Validation loss decreased, model saved as best_model_epoch_28.pth\n",
      "Train Loss: 0.1993, Train Acc: 0.9250\n",
      "Val Loss: 0.2471, Val Acc: 0.8500\n",
      "Epoch 29/50\n"
     ]
    },
    {
     "name": "stderr",
     "output_type": "stream",
     "text": [
      "100%|██████████| 40/40 [00:39<00:00,  1.00it/s]\n",
      "100%|██████████| 10/10 [00:08<00:00,  1.16it/s]\n"
     ]
    },
    {
     "name": "stdout",
     "output_type": "stream",
     "text": [
      "Train Loss: 0.2288, Train Acc: 0.9313\n",
      "Val Loss: 0.3598, Val Acc: 0.8000\n",
      "Epoch 30/50\n"
     ]
    },
    {
     "name": "stderr",
     "output_type": "stream",
     "text": [
      "100%|██████████| 40/40 [00:40<00:00,  1.00s/it]\n",
      "100%|██████████| 10/10 [00:08<00:00,  1.16it/s]\n"
     ]
    },
    {
     "name": "stdout",
     "output_type": "stream",
     "text": [
      "Train Loss: 0.1668, Train Acc: 0.9313\n",
      "Val Loss: 0.6418, Val Acc: 0.7750\n",
      "Epoch 31/50\n"
     ]
    },
    {
     "name": "stderr",
     "output_type": "stream",
     "text": [
      "100%|██████████| 40/40 [00:39<00:00,  1.00it/s]\n",
      "100%|██████████| 10/10 [00:08<00:00,  1.16it/s]\n"
     ]
    },
    {
     "name": "stdout",
     "output_type": "stream",
     "text": [
      "Train Loss: 0.1544, Train Acc: 0.9375\n",
      "Val Loss: 0.3276, Val Acc: 0.8500\n",
      "Epoch 32/50\n"
     ]
    },
    {
     "name": "stderr",
     "output_type": "stream",
     "text": [
      "100%|██████████| 40/40 [00:39<00:00,  1.00it/s]\n",
      "100%|██████████| 10/10 [00:08<00:00,  1.16it/s]\n"
     ]
    },
    {
     "name": "stdout",
     "output_type": "stream",
     "text": [
      "Train Loss: 0.1266, Train Acc: 0.9563\n",
      "Val Loss: 0.4100, Val Acc: 0.8250\n",
      "Epoch 33/50\n"
     ]
    },
    {
     "name": "stderr",
     "output_type": "stream",
     "text": [
      "100%|██████████| 40/40 [00:39<00:00,  1.00it/s]\n",
      "100%|██████████| 10/10 [00:08<00:00,  1.16it/s]\n"
     ]
    },
    {
     "name": "stdout",
     "output_type": "stream",
     "text": [
      "Train Loss: 0.1230, Train Acc: 0.9500\n",
      "Val Loss: 0.2994, Val Acc: 0.8750\n",
      "Epoch 34/50\n"
     ]
    },
    {
     "name": "stderr",
     "output_type": "stream",
     "text": [
      "100%|██████████| 40/40 [00:40<00:00,  1.00s/it]\n",
      "100%|██████████| 10/10 [00:08<00:00,  1.18it/s]\n"
     ]
    },
    {
     "name": "stdout",
     "output_type": "stream",
     "text": [
      "Train Loss: 0.0751, Train Acc: 0.9750\n",
      "Val Loss: 0.3899, Val Acc: 0.8500\n",
      "Epoch 35/50\n"
     ]
    },
    {
     "name": "stderr",
     "output_type": "stream",
     "text": [
      "100%|██████████| 40/40 [00:39<00:00,  1.00it/s]\n",
      "100%|██████████| 10/10 [00:08<00:00,  1.17it/s]\n"
     ]
    },
    {
     "name": "stdout",
     "output_type": "stream",
     "text": [
      "Train Loss: 0.0677, Train Acc: 0.9750\n",
      "Val Loss: 0.4195, Val Acc: 0.8500\n",
      "Epoch 36/50\n"
     ]
    },
    {
     "name": "stderr",
     "output_type": "stream",
     "text": [
      "100%|██████████| 40/40 [00:39<00:00,  1.01it/s]\n",
      "100%|██████████| 10/10 [00:08<00:00,  1.16it/s]\n"
     ]
    },
    {
     "name": "stdout",
     "output_type": "stream",
     "text": [
      "Train Loss: 0.0579, Train Acc: 0.9750\n",
      "Val Loss: 0.3433, Val Acc: 0.8000\n",
      "Epoch 37/50\n"
     ]
    },
    {
     "name": "stderr",
     "output_type": "stream",
     "text": [
      "100%|██████████| 40/40 [00:39<00:00,  1.00it/s]\n",
      "100%|██████████| 10/10 [00:08<00:00,  1.17it/s]\n"
     ]
    },
    {
     "name": "stdout",
     "output_type": "stream",
     "text": [
      "Train Loss: 0.0382, Train Acc: 0.9812\n",
      "Val Loss: 0.6923, Val Acc: 0.7500\n",
      "Epoch 38/50\n"
     ]
    },
    {
     "name": "stderr",
     "output_type": "stream",
     "text": [
      "100%|██████████| 40/40 [00:39<00:00,  1.00it/s]\n",
      "100%|██████████| 10/10 [00:08<00:00,  1.16it/s]\n"
     ]
    },
    {
     "name": "stdout",
     "output_type": "stream",
     "text": [
      "Train Loss: 0.0635, Train Acc: 0.9688\n",
      "Val Loss: 0.4514, Val Acc: 0.7750\n",
      "Epoch 39/50\n"
     ]
    },
    {
     "name": "stderr",
     "output_type": "stream",
     "text": [
      "100%|██████████| 40/40 [00:39<00:00,  1.00it/s]\n",
      "100%|██████████| 10/10 [00:08<00:00,  1.16it/s]\n"
     ]
    },
    {
     "name": "stdout",
     "output_type": "stream",
     "text": [
      "Train Loss: 0.0260, Train Acc: 0.9938\n",
      "Val Loss: 0.3875, Val Acc: 0.8500\n",
      "Epoch 40/50\n"
     ]
    },
    {
     "name": "stderr",
     "output_type": "stream",
     "text": [
      "100%|██████████| 40/40 [00:39<00:00,  1.00it/s]\n",
      "100%|██████████| 10/10 [00:08<00:00,  1.17it/s]\n"
     ]
    },
    {
     "name": "stdout",
     "output_type": "stream",
     "text": [
      "Train Loss: 0.0520, Train Acc: 0.9812\n",
      "Val Loss: 0.8099, Val Acc: 0.7750\n",
      "Epoch 41/50\n"
     ]
    },
    {
     "name": "stderr",
     "output_type": "stream",
     "text": [
      "100%|██████████| 40/40 [00:39<00:00,  1.00it/s]\n",
      "100%|██████████| 10/10 [00:08<00:00,  1.16it/s]\n"
     ]
    },
    {
     "name": "stdout",
     "output_type": "stream",
     "text": [
      "Train Loss: 0.0279, Train Acc: 0.9938\n",
      "Val Loss: 0.5289, Val Acc: 0.8000\n",
      "Epoch 42/50\n"
     ]
    },
    {
     "name": "stderr",
     "output_type": "stream",
     "text": [
      "100%|██████████| 40/40 [00:39<00:00,  1.01it/s]\n",
      "100%|██████████| 10/10 [00:08<00:00,  1.17it/s]\n"
     ]
    },
    {
     "name": "stdout",
     "output_type": "stream",
     "text": [
      "Train Loss: 0.0190, Train Acc: 1.0000\n",
      "Val Loss: 0.5113, Val Acc: 0.8250\n",
      "Epoch 43/50\n"
     ]
    },
    {
     "name": "stderr",
     "output_type": "stream",
     "text": [
      "100%|██████████| 40/40 [00:39<00:00,  1.00it/s]\n",
      "100%|██████████| 10/10 [00:08<00:00,  1.15it/s]\n"
     ]
    },
    {
     "name": "stdout",
     "output_type": "stream",
     "text": [
      "Train Loss: 0.0262, Train Acc: 0.9938\n",
      "Val Loss: 1.1940, Val Acc: 0.8000\n",
      "Epoch 44/50\n"
     ]
    },
    {
     "name": "stderr",
     "output_type": "stream",
     "text": [
      "100%|██████████| 40/40 [00:39<00:00,  1.00it/s]\n",
      "100%|██████████| 10/10 [00:08<00:00,  1.16it/s]\n"
     ]
    },
    {
     "name": "stdout",
     "output_type": "stream",
     "text": [
      "Train Loss: 0.0590, Train Acc: 0.9688\n",
      "Val Loss: 0.2982, Val Acc: 0.8500\n",
      "Epoch 45/50\n"
     ]
    },
    {
     "name": "stderr",
     "output_type": "stream",
     "text": [
      "100%|██████████| 40/40 [00:39<00:00,  1.00it/s]\n",
      "100%|██████████| 10/10 [00:08<00:00,  1.17it/s]\n"
     ]
    },
    {
     "name": "stdout",
     "output_type": "stream",
     "text": [
      "Train Loss: 0.0146, Train Acc: 1.0000\n",
      "Val Loss: 0.4708, Val Acc: 0.8500\n",
      "Epoch 46/50\n"
     ]
    },
    {
     "name": "stderr",
     "output_type": "stream",
     "text": [
      "100%|██████████| 40/40 [00:39<00:00,  1.01it/s]\n",
      "100%|██████████| 10/10 [00:08<00:00,  1.16it/s]\n"
     ]
    },
    {
     "name": "stdout",
     "output_type": "stream",
     "text": [
      "Train Loss: 0.0213, Train Acc: 0.9938\n",
      "Val Loss: 0.5853, Val Acc: 0.8000\n",
      "Epoch 47/50\n"
     ]
    },
    {
     "name": "stderr",
     "output_type": "stream",
     "text": [
      "100%|██████████| 40/40 [00:39<00:00,  1.01it/s]\n",
      "100%|██████████| 10/10 [00:08<00:00,  1.17it/s]\n"
     ]
    },
    {
     "name": "stdout",
     "output_type": "stream",
     "text": [
      "Train Loss: 0.0194, Train Acc: 0.9938\n",
      "Val Loss: 0.3437, Val Acc: 0.8500\n",
      "Epoch 48/50\n"
     ]
    },
    {
     "name": "stderr",
     "output_type": "stream",
     "text": [
      "100%|██████████| 40/40 [00:39<00:00,  1.00it/s]\n",
      "100%|██████████| 10/10 [00:08<00:00,  1.17it/s]\n"
     ]
    },
    {
     "name": "stdout",
     "output_type": "stream",
     "text": [
      "Train Loss: 0.0164, Train Acc: 1.0000\n",
      "Val Loss: 0.7846, Val Acc: 0.8500\n",
      "Epoch 49/50\n"
     ]
    },
    {
     "name": "stderr",
     "output_type": "stream",
     "text": [
      "100%|██████████| 40/40 [00:40<00:00,  1.00s/it]\n",
      "100%|██████████| 10/10 [00:08<00:00,  1.17it/s]\n"
     ]
    },
    {
     "name": "stdout",
     "output_type": "stream",
     "text": [
      "Train Loss: 0.0073, Train Acc: 1.0000\n",
      "Val Loss: 0.6127, Val Acc: 0.8500\n",
      "Epoch 50/50\n"
     ]
    },
    {
     "name": "stderr",
     "output_type": "stream",
     "text": [
      "100%|██████████| 40/40 [00:39<00:00,  1.00it/s]\n",
      "100%|██████████| 10/10 [00:08<00:00,  1.16it/s]"
     ]
    },
    {
     "name": "stdout",
     "output_type": "stream",
     "text": [
      "Train Loss: 0.0053, Train Acc: 1.0000\n",
      "Val Loss: 0.6788, Val Acc: 0.8250\n"
     ]
    },
    {
     "name": "stderr",
     "output_type": "stream",
     "text": [
      "\n"
     ]
    }
   ],
   "source": [
    "import random\n",
    "import numpy as np\n",
    "\n",
    "scheduler = StepLR(optimizer, step_size=10, gamma=0.7)\n",
    "seed=1\n",
    "random.seed(seed)\n",
    "np.random.seed(seed)\n",
    "device='cuda' if torch.cuda.is_available() else 'cpu'\n",
    "torch.manual_seed(seed)\n",
    "if device =='cuda':\n",
    "    print('gpu device is using')\n",
    "    torch.cuda.manual_seed_all(seed)\n",
    "torch.backends.cudnn.deterministic=True\n",
    "torch.backends.cudnn.benchmark=False\n",
    "\n",
    "#wandb.login()\n",
    "wandb.init(project=\"CV\", name=\"Adam(lr=0.0002)\")\n",
    "\n",
    "num_epochs = 50  # 에포크 수를 정의합니다\n",
    "for epoch in range(1, num_epochs + 1):\n",
    "    # Perform training and validation\n",
    "    # Save the weights\n",
    "    # Log the training and validation results\n",
    "    \n",
    "    print(f'Epoch {epoch}/{num_epochs}')\n",
    "    \n",
    "    # 훈련 함수 호출\n",
    "    train_acc, train_loss = _train()\n",
    "    \n",
    "    # 검증 함수 호출\n",
    "    val_acc, val_loss = _val()\n",
    "\n",
    "    #헉습률 추출\n",
    "    current_lr = optimizer.param_groups[0]['lr']\n",
    "    \n",
    "    # 학습률 스케줄러 업데이트\n",
    "    scheduler.step()\n",
    "    \n",
    "    # 검증 손실이 감소하면 모델 가중치 저장\n",
    "    if val_loss < min_loss:\n",
    "        min_loss = val_loss\n",
    "        torch.save(model.state_dict(), f'best_model_epoch_Adam(lr=0.0002)_{epoch}.pth')\n",
    "        print(f'Validation loss decreased, model saved as best_model_epoch_{epoch}.pth')\n",
    "    \n",
    "    # 훈련 및 검증 결과를 로깅\n",
    "    wandb.log({\n",
    "        'epoch': epoch,\n",
    "        'train_loss': train_loss,\n",
    "        'train_accuracy': train_acc,\n",
    "        'val_loss': val_loss,\n",
    "        'val_accuracy': val_acc,\n",
    "        'learning_rate': current_lr\n",
    "    })\n",
    "    \n",
    "    # 결과 출력\n",
    "    print(f'Train Loss: {train_loss:.4f}, Train Acc: {train_acc:.4f}')\n",
    "    print(f'Val Loss: {val_loss:.4f}, Val Acc: {val_acc:.4f}')"
   ]
  },
  {
   "cell_type": "code",
   "execution_count": 6,
   "metadata": {},
   "outputs": [
    {
     "name": "stdout",
     "output_type": "stream",
     "text": [
      "Found 20 files belonging to 2 classes.\n",
      "Fight      : 0\n",
      "NonFight   : 1\n"
     ]
    }
   ],
   "source": [
    "best_model = '/home/yungyeokim/computervision/best_model_epoch_SGD(lr=0.003)_50.pth'\n",
    "test_path = '/home/yungyeokim/computervision/npy_dataset/test'\n",
    "\n",
    "test_dataset = DataGenerator(directory=test_path, data_augmentation=False)\n",
    "test_loader = DataLoader(test_dataset, batch_size=1, shuffle=True, num_workers=0)"
   ]
  },
  {
   "cell_type": "code",
   "execution_count": 9,
   "metadata": {},
   "outputs": [
    {
     "name": "stderr",
     "output_type": "stream",
     "text": [
      "/tmp/ipykernel_2248949/418225075.py:4: FutureWarning: You are using `torch.load` with `weights_only=False` (the current default value), which uses the default pickle module implicitly. It is possible to construct malicious pickle data which will execute arbitrary code during unpickling (See https://github.com/pytorch/pytorch/blob/main/SECURITY.md#untrusted-models for more details). In a future release, the default value for `weights_only` will be flipped to `True`. This limits the functions that could be executed during unpickling. Arbitrary objects will no longer be allowed to be loaded via this mode unless they are explicitly allowlisted by the user via `torch.serialization.add_safe_globals`. We recommend you start setting `weights_only=True` for any use case where you don't have full control of the loaded file. Please open an issue on GitHub for any issues related to this experimental feature.\n",
      "  model.load_state_dict(torch.load(best_model))\n"
     ]
    },
    {
     "name": "stdout",
     "output_type": "stream",
     "text": [
      "test accuracy : 0.65\n",
      "AUROC: 0.78\n"
     ]
    },
    {
     "data": {
      "image/png": "[encoded data removed]",
      "text/plain": [
       "<Figure size 640x480 with 1 Axes>"
      ]
     },
     "metadata": {},
     "output_type": "display_data"
    }
   ],
   "source": [
    "from sklearn.metrics import roc_auc_score, roc_curve\n",
    "import matplotlib.pyplot as plt\n",
    "\n",
    "model.load_state_dict(torch.load(best_model))\n",
    "model.eval()\n",
    "\n",
    "all_labels = []\n",
    "all_probs = []\n",
    "\n",
    "with torch.no_grad():\n",
    "    correct = 0\n",
    "    total = 0\n",
    "    for inputs, labels in test_loader:\n",
    "        inputs = inputs.cuda() if torch.cuda.is_available() else inputs\n",
    "        labels = labels.cuda() if torch.cuda.is_available() else labels\n",
    "\n",
    "        labels = torch.argmax(labels, dim=1)\n",
    "\n",
    "        outputs = model(inputs)\n",
    "\n",
    "        probs = F.softmax(outputs, dim=1)[:, 1]\n",
    "\n",
    "        preds = torch.argmax(outputs, dim=1)\n",
    "\n",
    "        correct += (preds == labels).sum().item()\n",
    "        total += labels.size(0)\n",
    "\n",
    "        all_labels.extend(labels.cpu().numpy())\n",
    "        all_probs.extend(probs.cpu().numpy())\n",
    "\n",
    "    accuracy = correct / total\n",
    "    print(\"test accuracy : {:.2f}\".format(accuracy))\n",
    "\n",
    "    auroc = roc_auc_score(all_labels, all_probs)\n",
    "    print(\"AUROC: {:.2f}\".format(auroc))\n",
    "\n",
    "    fpr, tpr, thresholds = roc_curve(all_labels, all_probs)\n",
    "\n",
    "    plt.figure()\n",
    "    plt.plot(fpr, tpr, label='AUROC = {:.2f}'.format(auroc))\n",
    "    plt.plot([0,1],[0,1],'--', color='gray', label='Random')\n",
    "    plt.xlim([-0.05, 1.05])\n",
    "    plt.ylim([-0.05, 1.05])\n",
    "    plt.xlabel('False Positive Rate')\n",
    "    plt.ylabel('True Positive Rate')\n",
    "    plt.title('Receiver Operating Characteristic (ROC) Curve')\n",
    "    plt.legend(loc=\"lower right\")\n",
    "    plt.show()\n"
   ]
  }
 ],
 "metadata": {
  "kernelspec": {
   "display_name": "icpbl",
   "language": "python",
   "name": "python3"
  },
  "language_info": {
   "codemirror_mode": {
    "name": "ipython",
    "version": 3
   },
   "file_extension": ".py",
   "mimetype": "text/x-python",
   "name": "python",
   "nbconvert_exporter": "python",
   "pygments_lexer": "ipython3",
   "version": "3.11.8"
  }
 },
 "nbformat": 4,
 "nbformat_minor": 2
}
